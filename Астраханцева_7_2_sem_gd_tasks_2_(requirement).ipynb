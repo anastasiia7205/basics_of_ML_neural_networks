{
  "cells": [
    {
      "cell_type": "markdown",
      "metadata": {
        "id": "f46lxLSsBp0f"
      },
      "source": [
        "# Семинар: Градиентный спуск. Задачи"
      ]
    },
    {
      "cell_type": "code",
      "execution_count": null,
      "metadata": {
        "id": "z8Nfs9riBp0k"
      },
      "outputs": [],
      "source": [
        "from typing import Iterable, List\n",
        "import matplotlib.pyplot as plt\n",
        "import numpy as np\n",
        "import abc"
      ]
    },
    {
      "cell_type": "code",
      "source": [
        "class BaseLoss(abc.ABC):\n",
        "    \"\"\"Базовый класс лосса\"\"\"\n",
        "\n",
        "    @abc.abstractmethod\n",
        "    def calc_loss(self, X: np.ndarray, y: np.ndarray, w: np.ndarray) -> float:\n",
        "        \"\"\"\n",
        "        Функция для вычислений значения лосса\n",
        "        :param X: np.ndarray размера (n_objects, n_features) с объектами датасета\n",
        "        :param y: np.ndarray размера (n_objects,) с правильными ответами\n",
        "        :param w: np.ndarray размера (n_features,) с весами линейной регрессии\n",
        "        :return: число -- значения функции потерь\n",
        "        \"\"\"\n",
        "        raise NotImplementedError\n",
        "\n",
        "    @abc.abstractmethod\n",
        "    def calc_grad(self, X: np.ndarray, y: np.ndarray, w: np.ndarray) -> np.ndarray:\n",
        "        \"\"\"\n",
        "        Функция для вычислений градиента лосса по весам w\n",
        "        :param X: np.ndarray размера (n_objects, n_features) с объектами датасета\n",
        "        :param y: np.ndarray размера (n_objects,) с правильными ответами\n",
        "        :param w: np.ndarray размера (n_features,) с весами линейной регрессии\n",
        "        :return: np.ndarray размера (n_features,) градиент функции потерь по весам w\n",
        "        \"\"\"\n",
        "        raise NotImplementedError"
      ],
      "metadata": {
        "id": "6C5DpFJOQ3k7"
      },
      "execution_count": null,
      "outputs": []
    },
    {
      "cell_type": "code",
      "source": [
        "class MSELoss(BaseLoss):\n",
        "    def calc_loss(self, X: np.ndarray, y: np.ndarray, w: np.ndarray) -> float:\n",
        "        \"\"\"\n",
        "        Функция для вычислений значения лосса\n",
        "        :param X: np.ndarray размера (n_objects, n_features) с объектами датасета\n",
        "        :param y: np.ndarray размера (n_objects,) с правильными ответами\n",
        "        :param w: np.ndarray размера (n_features,) с весами линейной регрессии\n",
        "        :return: число -- значения функции потерь\n",
        "        \"\"\"\n",
        "        return np.mean((X.dot(w) - y)**2) # реализация формулы, написанной выше. X.dot(w) - матричное умножение\n",
        "    def calc_grad(self, X: np.ndarray, y: np.ndarray, w: np.ndarray) -> np.ndarray:\n",
        "        \"\"\"\n",
        "        Функция для вычислений градиента лосса по весам w\n",
        "        :param X: np.ndarray размера (n_objects, n_features) с объектами датасета\n",
        "        :param y: np.ndarray размера (n_objects,) с правильными ответами\n",
        "        :param w: np.ndarray размера (n_features,) с весами линейной регрессии\n",
        "        :return: np.ndarray размера (n_features,) градиент функции потерь по весам w\n",
        "        \"\"\"\n",
        "        return (2/len(y)) * X.T.dot(X.dot(w) - y) # градиент по фомуле выше"
      ],
      "metadata": {
        "id": "205srETjjuP0"
      },
      "execution_count": null,
      "outputs": []
    },
    {
      "cell_type": "code",
      "source": [
        "def gradient_descent(\n",
        "    w_init: np.ndarray,\n",
        "    X: np.ndarray,\n",
        "    y: np.ndarray,\n",
        "    loss: BaseLoss,\n",
        "    lr: float,\n",
        "    n_iterations: int = 100000,\n",
        ")-> List[np.ndarray]:\n",
        "    \"\"\"\n",
        "    Функция градиентного спуска\n",
        "    :param w_init: np.ndarray размера (n_feratures,) -- начальное значение вектора весов\n",
        "    :param X: np.ndarray размера (n_objects, n_features) -- матрица объекты-признаки\n",
        "    :param y: np.ndarray размера (n_objects,) -- вектор правильных ответов\n",
        "    :param loss: Объект подкласса BaseLoss, который умеет считать градиенты при помощи loss.calc_grad(X, y, w)\n",
        "    :param lr: float -- параметр величины шага, на который нужно домножать градиент\n",
        "    :param n_iterations: int -- сколько итераций делать\n",
        "    :return: Список из n_iterations объектов np.ndarray размера (n_features,) -- история весов на каждом шаге\n",
        "    \"\"\"\n",
        "    weights = [] # список, в который будем записывать значения полученных весов\n",
        "    weights.append(w_init) # добавим исходное значение веса\n",
        "    w = weights[0] # это исходное значение понадобится нам в первой итерации\n",
        "    for i in range(n_iterations): # кол-во итераций\n",
        "      grad = loss.calc_grad(X, y, w) # считаем радиент с помощью функции, написанной выше\n",
        "      w = w - lr*grad # меняем значение веса w соглансо формуле одной итерации град. спуска\n",
        "      weights.append(w) # наполняем список весов\n",
        "    return weights\n"
      ],
      "metadata": {
        "id": "Du1NZErLSMes"
      },
      "execution_count": null,
      "outputs": []
    },
    {
      "cell_type": "markdown",
      "metadata": {
        "id": "u5OOYVQOBp0l"
      },
      "source": [
        "## Часть 1. Градиентный спуск (вспомним формулы)"
      ]
    },
    {
      "cell_type": "markdown",
      "metadata": {
        "id": "7j2vGNTyBp0l"
      },
      "source": [
        "Функционал ошибки, который мы применяем в задаче регрессии — Mean Squared Error:\n",
        "\n",
        "$$\n",
        "Q(w, X, y) = \\frac{1}{\\ell} \\sum\\limits_{i=1}^\\ell (\\langle x_i, w \\rangle - y_i)^2\n",
        "$$\n",
        "\n",
        "где $x_i$ — это $i$-ый объект датасета, $y_i$ — правильный ответ для $i$-го объекта, а $w$ — веса нашей линейной модели.\n",
        "\n",
        "Можно показать, что для линейной модели, функционал ошибки можно записать в матричном виде следующим образом:\n",
        "$$\n",
        "Q(w, X, y) =\\frac{1}{l} (y - Xw)^T(y-Xw)\n",
        "$$\n",
        "или\n",
        "$$\n",
        "Q(w, X, y) = \\frac{1}{l} || Xw - y ||^2\n",
        "$$\n",
        "\n",
        "где $X$ — это матрица объекты-признаки, а $y$ — вектор правильных ответов\n",
        "\n",
        "Для того чтобы воспользоваться методом градиентного спуска, нам нужно посчитать градиент нашего функционала. Для MSE он будет выглядеть так:\n",
        "\n",
        "$$\n",
        "\\nabla_w Q(w, X, y) = \\frac{2}{l} X^T(Xw-y)\n",
        "$$"
      ]
    },
    {
      "cell_type": "markdown",
      "metadata": {
        "id": "X5jyaptMF7_g"
      },
      "source": [
        "Формула для одной итерации градиентного спуска выглядит следующим образом:\n",
        "\n",
        "$$\n",
        "w^t = w^{t-1} - \\eta \\nabla_{w} Q(w^{t-1}, X, y)\n",
        "$$\n",
        "\n",
        "Где $w^t$ — значение вектора весов на $t$-ой итерации, а $\\eta$ — параметр learning rate, отвечающий за размер шага."
      ]
    },
    {
      "cell_type": "markdown",
      "metadata": {
        "id": "m7jS7bJUBp0s"
      },
      "source": [
        "## Часть 2. Линейная регрессия (продолжение части 1 - используются решения из части 1).\n",
        "\n"
      ]
    },
    {
      "cell_type": "markdown",
      "metadata": {
        "id": "HRrNZdJ7Bp0s"
      },
      "source": [
        "Создадим класс для линейной регрессии. Он будет использовать интерфейс, знакомый нам из библиотеки `sklearn`.\n",
        "\n",
        "В методе `fit` мы будем подбирать веса `w` при помощи градиентного спуска нашим методом `gradient_descent`.\n",
        "\n",
        "В методе `predict` мы будем применять нашу регрессию к датасету,"
      ]
    },
    {
      "cell_type": "markdown",
      "metadata": {
        "id": "FyKvDkPOBp0s"
      },
      "source": [
        "**Задание 2.1:** Допишите код в методах `fit` и `predict` класса `LinearRegression_1`\n",
        "\n",
        "В методе `fit` вам нужно инициализировать веса `w` (например, из члучайного распределения), применить наш `gradient_descent` и сохранить последние веса `w` из траектории.\n",
        "\n",
        "В методе `predict` вам нужно применить линейную регрессию и вернуть вектор ответов.\n",
        "\n",
        "Обратите внимание, что объект лосса (функционала ошибки) передаётся в момент инициализации и хранится в `self.loss`. Его нужно использовать в `fit` для `gradient_descent` (например, с `n_iterations: int = 1000`)."
      ]
    },
    {
      "cell_type": "code",
      "execution_count": null,
      "metadata": {
        "id": "KdTk79QTBp0t"
      },
      "outputs": [],
      "source": [
        "class LinearRegression_1:\n",
        "    def __init__(self, loss: BaseLoss, lr: float = 0.01, n_iterations: int = 10000, n_features: int = 2) -> None: # добавили необходимые аргументы в параметры функции\n",
        "        #loss - функционал ошибки\n",
        "        #lr - градиентный шаг\n",
        "        self.loss = loss\n",
        "        self.lr = lr\n",
        "        self.n_iterations = n_iterations\n",
        "        self.n_features = n_features\n",
        "\n",
        "    def fit(self, X: np.ndarray, y: np.ndarray) -> \"LinearRegression_1\":\n",
        "        X = np.asarray(X)\n",
        "        y = np.asarray(y)\n",
        "        # Добавляем столбец из единиц для константного признака\n",
        "        X = np.hstack([X, np.ones([X.shape[0], 1])])\n",
        "\n",
        "        w_init = np.random.uniform(-2, 2, (self.n_features))\n",
        "        self.w = (gradient_descent(w_init, X, y, self.loss, self.lr, self.n_iterations))[-1] # берем последний вес из градиентного спуска\n",
        "\n",
        "        return self.w\n",
        "\n",
        "\n",
        "    def predict(self, X: np.ndarray) -> np.ndarray:\n",
        "        # Проверяем, что регрессия обучена, то есть, что был вызван fit и в нём был установлен атрибут self.w\n",
        "        assert hasattr(self, \"w\"), \"Linear regression must be fitted first\"\n",
        "        # Добавляем столбец из единиц для константного признака\n",
        "        X = np.hstack([X, np.ones([X.shape[0], 1])])\n",
        "        y_pred = X.dot(self.w)\n",
        "        return y_pred # возвращаем предсказание\n"
      ]
    },
    {
      "cell_type": "markdown",
      "metadata": {
        "id": "CV2RGHwgBp0t"
      },
      "source": [
        "Класс линейной регрессии создан. Более того, мы можем управлять тем, какой функционал ошибки мы оптимизируем, просто передавая разные классы в параметр `loss` при инициализации.\n",
        "\n"
      ]
    },
    {
      "cell_type": "markdown",
      "metadata": {
        "id": "kIG_P49YBp0t"
      },
      "source": [
        "Будем применять нашу регрессию на реальном датасете. Загрузим датасет с машинами (см. семинар 5_sem-sklearn-knn.ipynb):"
      ]
    },
    {
      "cell_type": "code",
      "execution_count": null,
      "metadata": {
        "id": "nJn0SUlnBp0t"
      },
      "outputs": [],
      "source": [
        "import pandas as pd\n",
        "\n",
        "X_raw = pd.read_csv(\n",
        "    \"http://archive.ics.uci.edu/ml/machine-learning-databases/autos/imports-85.data\",\n",
        "    header=None,      #в исх. таблице нет названий колонок\n",
        "    na_values=[\"?\"],  #если ?, то NaN\n",
        ")\n",
        "\n",
        "X_raw.head()\n",
        "X_raw = X_raw[~X_raw[25].isna()].reset_index(drop=True)"
      ]
    },
    {
      "cell_type": "code",
      "execution_count": null,
      "metadata": {
        "id": "_KcER5JtBp0u",
        "colab": {
          "base_uri": "https://localhost:8080/"
        },
        "outputId": "6cd8bda0-bbe4-4e99-e6eb-6ba84b872686"
      },
      "outputs": [
        {
          "output_type": "execute_result",
          "data": {
            "text/plain": [
              "(201,)"
            ]
          },
          "metadata": {},
          "execution_count": 97
        }
      ],
      "source": [
        "y = X_raw[25] # целевой признак\n",
        "X_raw = X_raw.drop(25, axis=1) # остальные признаки\n",
        "y.shape"
      ]
    },
    {
      "cell_type": "code",
      "source": [
        "X_raw.shape"
      ],
      "metadata": {
        "colab": {
          "base_uri": "https://localhost:8080/"
        },
        "id": "29FknE5yfepM",
        "outputId": "52a78d6d-e986-4795-bd50-d356eb104f23"
      },
      "execution_count": null,
      "outputs": [
        {
          "output_type": "execute_result",
          "data": {
            "text/plain": [
              "(201, 25)"
            ]
          },
          "metadata": {},
          "execution_count": 98
        }
      ]
    },
    {
      "cell_type": "markdown",
      "metadata": {
        "id": "AVS4T-IUBp0u"
      },
      "source": [
        "**Задание 2.2:** Обработайте датасет нужными методами, чтобы на нём можно было обучать линейную регрессию (см. семинар 5_sem-sklearn-knn.ipynb):\n",
        "\n",
        "* Заполните пропуски средними (библиотека SimpleImputer)\n",
        "* Переведите категориальные признаки в числовые (в методе get_dummies использовать drop_first=True.)\n",
        "* Разделите датасет на обучающую и тестовую выборку (задать: доля тестовой выборки равна 0.3, `random_state=42`, `shuffle=True`)\n",
        "* Нормализуйте числовые признаки (при помощи бибилиотеки StandardScaler)"
      ]
    },
    {
      "cell_type": "code",
      "execution_count": null,
      "metadata": {
        "id": "COp1ybClBp0u",
        "colab": {
          "base_uri": "https://localhost:8080/"
        },
        "outputId": "a7138326-fbbb-42a6-d57f-3c907d0913ac"
      },
      "outputs": [
        {
          "output_type": "stream",
          "name": "stderr",
          "text": [
            "/usr/local/lib/python3.10/dist-packages/numpy/core/fromnumeric.py:3430: FutureWarning: In a future version, DataFrame.mean(axis=None) will return a scalar mean over the entire DataFrame. To retain the old behavior, use 'frame.mean(axis=0)' or just 'frame.mean()'\n",
            "  return mean(axis=axis, dtype=dtype, out=out, **kwargs)\n"
          ]
        },
        {
          "output_type": "execute_result",
          "data": {
            "text/plain": [
              "0     0.00000\n",
              "1     0.18408\n",
              "2     0.00000\n",
              "3     0.00000\n",
              "4     0.00000\n",
              "5     0.00995\n",
              "6     0.00000\n",
              "7     0.00000\n",
              "8     0.00000\n",
              "9     0.00000\n",
              "10    0.00000\n",
              "11    0.00000\n",
              "12    0.00000\n",
              "13    0.00000\n",
              "14    0.00000\n",
              "15    0.00000\n",
              "16    0.00000\n",
              "17    0.00000\n",
              "18    0.01990\n",
              "19    0.01990\n",
              "20    0.00000\n",
              "21    0.00995\n",
              "22    0.00995\n",
              "23    0.00000\n",
              "24    0.00000\n",
              "dtype: float64"
            ]
          },
          "metadata": {},
          "execution_count": 99
        }
      ],
      "source": [
        "np.mean(X_raw.isna())  # есть пропуски"
      ]
    },
    {
      "cell_type": "code",
      "source": [
        "X_raw.isnull().sum() # кол-во пропусков по столбцам"
      ],
      "metadata": {
        "colab": {
          "base_uri": "https://localhost:8080/"
        },
        "id": "Lj8LD4yDW_1x",
        "outputId": "cacdaa88-4c5b-497a-e284-e4f8b4540070"
      },
      "execution_count": null,
      "outputs": [
        {
          "output_type": "execute_result",
          "data": {
            "text/plain": [
              "0      0\n",
              "1     37\n",
              "2      0\n",
              "3      0\n",
              "4      0\n",
              "5      2\n",
              "6      0\n",
              "7      0\n",
              "8      0\n",
              "9      0\n",
              "10     0\n",
              "11     0\n",
              "12     0\n",
              "13     0\n",
              "14     0\n",
              "15     0\n",
              "16     0\n",
              "17     0\n",
              "18     4\n",
              "19     4\n",
              "20     0\n",
              "21     2\n",
              "22     2\n",
              "23     0\n",
              "24     0\n",
              "dtype: int64"
            ]
          },
          "metadata": {},
          "execution_count": 100
        }
      ]
    },
    {
      "cell_type": "code",
      "source": [
        "X_raw.dtypes # типы данных в столбцах"
      ],
      "metadata": {
        "colab": {
          "base_uri": "https://localhost:8080/"
        },
        "id": "o1KW2aJjXnAr",
        "outputId": "0068f9fd-1ce4-433b-f8f4-079c7977e3fd"
      },
      "execution_count": null,
      "outputs": [
        {
          "output_type": "execute_result",
          "data": {
            "text/plain": [
              "0       int64\n",
              "1     float64\n",
              "2      object\n",
              "3      object\n",
              "4      object\n",
              "5      object\n",
              "6      object\n",
              "7      object\n",
              "8      object\n",
              "9     float64\n",
              "10    float64\n",
              "11    float64\n",
              "12    float64\n",
              "13      int64\n",
              "14     object\n",
              "15     object\n",
              "16      int64\n",
              "17     object\n",
              "18    float64\n",
              "19    float64\n",
              "20    float64\n",
              "21    float64\n",
              "22    float64\n",
              "23      int64\n",
              "24      int64\n",
              "dtype: object"
            ]
          },
          "metadata": {},
          "execution_count": 101
        }
      ]
    },
    {
      "cell_type": "code",
      "source": [
        "obj_ind = X_raw.columns[(X_raw.dtypes == \"object\").values] # индексы столбцов, в которых хаписаны категориальные данные\n",
        "real_ind = X_raw.columns[(X_raw.dtypes != \"object\").values] # индексы столбцов, в которых хаписаны вещественные данные\n",
        "X_obj = X_raw[obj_ind] # таблица ТОЛЬКО вещественных данных\n",
        "X_real = X_raw[real_ind] # таблица ТОЛЬКО числовых данных\n",
        "X_obj.isna().sum() # проверка кол-ва пропусков в категориальных данных"
      ],
      "metadata": {
        "colab": {
          "base_uri": "https://localhost:8080/"
        },
        "id": "gcgkWoneWTaK",
        "outputId": "1e374ef0-39bc-461e-8aeb-6e2e031e9266"
      },
      "execution_count": null,
      "outputs": [
        {
          "output_type": "execute_result",
          "data": {
            "text/plain": [
              "2     0\n",
              "3     0\n",
              "4     0\n",
              "5     2\n",
              "6     0\n",
              "7     0\n",
              "8     0\n",
              "14    0\n",
              "15    0\n",
              "17    0\n",
              "dtype: int64"
            ]
          },
          "metadata": {},
          "execution_count": 102
        }
      ]
    },
    {
      "cell_type": "code",
      "source": [
        "from sklearn.impute import SimpleImputer # инструмент для заполнения пропусков числовых данных"
      ],
      "metadata": {
        "id": "kVi-k_9oYKfA"
      },
      "execution_count": null,
      "outputs": []
    },
    {
      "cell_type": "code",
      "source": [
        "mis_replacer = SimpleImputer(strategy=\"mean\") # указали, что заполнять будем именно средним\n",
        "\n",
        "X_obj = X_obj.fillna(\"\") # пропуски в категориальных даных булем заполнять пустыми строками\n",
        "X_obj.isna().sum() # проверяем, что пропусков больше нет"
      ],
      "metadata": {
        "colab": {
          "base_uri": "https://localhost:8080/"
        },
        "id": "a5e1ZLVAYMXx",
        "outputId": "84fb4476-7267-44fa-83de-5d56924ced87"
      },
      "execution_count": null,
      "outputs": [
        {
          "output_type": "execute_result",
          "data": {
            "text/plain": [
              "2     0\n",
              "3     0\n",
              "4     0\n",
              "5     0\n",
              "6     0\n",
              "7     0\n",
              "8     0\n",
              "14    0\n",
              "15    0\n",
              "17    0\n",
              "dtype: int64"
            ]
          },
          "metadata": {},
          "execution_count": 104
        }
      ]
    },
    {
      "cell_type": "code",
      "source": [
        "X_no_mis_real = pd.DataFrame(\n",
        "    data=mis_replacer.fit_transform(X_real), columns=X_real.columns # заполняем пропуски средним значением\n",
        ")\n",
        "X_no_mis_real.isna().sum() # проверяем, что пропусков больше нет\n"
      ],
      "metadata": {
        "colab": {
          "base_uri": "https://localhost:8080/"
        },
        "id": "Phu8n15LV4RX",
        "outputId": "efd220df-74b1-48f9-bfdd-90db8ba1d2d4"
      },
      "execution_count": null,
      "outputs": [
        {
          "output_type": "execute_result",
          "data": {
            "text/plain": [
              "0     0\n",
              "1     0\n",
              "9     0\n",
              "10    0\n",
              "11    0\n",
              "12    0\n",
              "13    0\n",
              "16    0\n",
              "18    0\n",
              "19    0\n",
              "20    0\n",
              "21    0\n",
              "22    0\n",
              "23    0\n",
              "24    0\n",
              "dtype: int64"
            ]
          },
          "metadata": {},
          "execution_count": 105
        }
      ]
    },
    {
      "cell_type": "code",
      "source": [
        "X_no_mis = pd.concat([X_no_mis_real, X_obj], axis=1) # склеиваем наши таблицы без пропусков\n",
        "X_no_mis.head()\n",
        "X_no_mis.shape"
      ],
      "metadata": {
        "colab": {
          "base_uri": "https://localhost:8080/"
        },
        "id": "5mjpyQiZV4bO",
        "outputId": "59198ee3-e318-4c3e-b628-d3d8945aa06f"
      },
      "execution_count": null,
      "outputs": [
        {
          "output_type": "execute_result",
          "data": {
            "text/plain": [
              "(201, 25)"
            ]
          },
          "metadata": {},
          "execution_count": 106
        }
      ]
    },
    {
      "cell_type": "code",
      "source": [
        "X_dum = pd.get_dummies(X_no_mis, drop_first=False) # переводим категориальные признаки в вещественные с помощью get_dummies\n",
        "print(f\"Data shape: {X_dum.shape}\")\n",
        "X_dum.head()"
      ],
      "metadata": {
        "colab": {
          "base_uri": "https://localhost:8080/",
          "height": 254
        },
        "id": "fArbKB9GW2GH",
        "outputId": "b9955c41-0315-4637-c8bb-d576e84f1eb8"
      },
      "execution_count": null,
      "outputs": [
        {
          "output_type": "stream",
          "name": "stdout",
          "text": [
            "Data shape: (201, 75)\n"
          ]
        },
        {
          "output_type": "execute_result",
          "data": {
            "text/plain": [
              "     0      1     9     10    11    12      13     16    18    19  ...  \\\n",
              "0  3.0  122.0  88.6  168.8  64.1  48.8  2548.0  130.0  3.47  2.68  ...   \n",
              "1  3.0  122.0  88.6  168.8  64.1  48.8  2548.0  130.0  3.47  2.68  ...   \n",
              "2  1.0  122.0  94.5  171.2  65.5  52.4  2823.0  152.0  2.68  3.47  ...   \n",
              "3  2.0  164.0  99.8  176.6  66.2  54.3  2337.0  109.0  3.19  3.40  ...   \n",
              "4  2.0  164.0  99.4  176.6  66.4  54.3  2824.0  136.0  3.19  3.40  ...   \n",
              "\n",
              "   15_twelve  15_two  17_1bbl  17_2bbl  17_4bbl  17_idi  17_mfi  17_mpfi  \\\n",
              "0          0       0        0        0        0       0       0        1   \n",
              "1          0       0        0        0        0       0       0        1   \n",
              "2          0       0        0        0        0       0       0        1   \n",
              "3          0       0        0        0        0       0       0        1   \n",
              "4          0       0        0        0        0       0       0        1   \n",
              "\n",
              "   17_spdi  17_spfi  \n",
              "0        0        0  \n",
              "1        0        0  \n",
              "2        0        0  \n",
              "3        0        0  \n",
              "4        0        0  \n",
              "\n",
              "[5 rows x 75 columns]"
            ],
            "text/html": [
              "\n",
              "  <div id=\"df-d0d36a1a-0f7c-42f4-a45a-48ede9f517c2\" class=\"colab-df-container\">\n",
              "    <div>\n",
              "<style scoped>\n",
              "    .dataframe tbody tr th:only-of-type {\n",
              "        vertical-align: middle;\n",
              "    }\n",
              "\n",
              "    .dataframe tbody tr th {\n",
              "        vertical-align: top;\n",
              "    }\n",
              "\n",
              "    .dataframe thead th {\n",
              "        text-align: right;\n",
              "    }\n",
              "</style>\n",
              "<table border=\"1\" class=\"dataframe\">\n",
              "  <thead>\n",
              "    <tr style=\"text-align: right;\">\n",
              "      <th></th>\n",
              "      <th>0</th>\n",
              "      <th>1</th>\n",
              "      <th>9</th>\n",
              "      <th>10</th>\n",
              "      <th>11</th>\n",
              "      <th>12</th>\n",
              "      <th>13</th>\n",
              "      <th>16</th>\n",
              "      <th>18</th>\n",
              "      <th>19</th>\n",
              "      <th>...</th>\n",
              "      <th>15_twelve</th>\n",
              "      <th>15_two</th>\n",
              "      <th>17_1bbl</th>\n",
              "      <th>17_2bbl</th>\n",
              "      <th>17_4bbl</th>\n",
              "      <th>17_idi</th>\n",
              "      <th>17_mfi</th>\n",
              "      <th>17_mpfi</th>\n",
              "      <th>17_spdi</th>\n",
              "      <th>17_spfi</th>\n",
              "    </tr>\n",
              "  </thead>\n",
              "  <tbody>\n",
              "    <tr>\n",
              "      <th>0</th>\n",
              "      <td>3.0</td>\n",
              "      <td>122.0</td>\n",
              "      <td>88.6</td>\n",
              "      <td>168.8</td>\n",
              "      <td>64.1</td>\n",
              "      <td>48.8</td>\n",
              "      <td>2548.0</td>\n",
              "      <td>130.0</td>\n",
              "      <td>3.47</td>\n",
              "      <td>2.68</td>\n",
              "      <td>...</td>\n",
              "      <td>0</td>\n",
              "      <td>0</td>\n",
              "      <td>0</td>\n",
              "      <td>0</td>\n",
              "      <td>0</td>\n",
              "      <td>0</td>\n",
              "      <td>0</td>\n",
              "      <td>1</td>\n",
              "      <td>0</td>\n",
              "      <td>0</td>\n",
              "    </tr>\n",
              "    <tr>\n",
              "      <th>1</th>\n",
              "      <td>3.0</td>\n",
              "      <td>122.0</td>\n",
              "      <td>88.6</td>\n",
              "      <td>168.8</td>\n",
              "      <td>64.1</td>\n",
              "      <td>48.8</td>\n",
              "      <td>2548.0</td>\n",
              "      <td>130.0</td>\n",
              "      <td>3.47</td>\n",
              "      <td>2.68</td>\n",
              "      <td>...</td>\n",
              "      <td>0</td>\n",
              "      <td>0</td>\n",
              "      <td>0</td>\n",
              "      <td>0</td>\n",
              "      <td>0</td>\n",
              "      <td>0</td>\n",
              "      <td>0</td>\n",
              "      <td>1</td>\n",
              "      <td>0</td>\n",
              "      <td>0</td>\n",
              "    </tr>\n",
              "    <tr>\n",
              "      <th>2</th>\n",
              "      <td>1.0</td>\n",
              "      <td>122.0</td>\n",
              "      <td>94.5</td>\n",
              "      <td>171.2</td>\n",
              "      <td>65.5</td>\n",
              "      <td>52.4</td>\n",
              "      <td>2823.0</td>\n",
              "      <td>152.0</td>\n",
              "      <td>2.68</td>\n",
              "      <td>3.47</td>\n",
              "      <td>...</td>\n",
              "      <td>0</td>\n",
              "      <td>0</td>\n",
              "      <td>0</td>\n",
              "      <td>0</td>\n",
              "      <td>0</td>\n",
              "      <td>0</td>\n",
              "      <td>0</td>\n",
              "      <td>1</td>\n",
              "      <td>0</td>\n",
              "      <td>0</td>\n",
              "    </tr>\n",
              "    <tr>\n",
              "      <th>3</th>\n",
              "      <td>2.0</td>\n",
              "      <td>164.0</td>\n",
              "      <td>99.8</td>\n",
              "      <td>176.6</td>\n",
              "      <td>66.2</td>\n",
              "      <td>54.3</td>\n",
              "      <td>2337.0</td>\n",
              "      <td>109.0</td>\n",
              "      <td>3.19</td>\n",
              "      <td>3.40</td>\n",
              "      <td>...</td>\n",
              "      <td>0</td>\n",
              "      <td>0</td>\n",
              "      <td>0</td>\n",
              "      <td>0</td>\n",
              "      <td>0</td>\n",
              "      <td>0</td>\n",
              "      <td>0</td>\n",
              "      <td>1</td>\n",
              "      <td>0</td>\n",
              "      <td>0</td>\n",
              "    </tr>\n",
              "    <tr>\n",
              "      <th>4</th>\n",
              "      <td>2.0</td>\n",
              "      <td>164.0</td>\n",
              "      <td>99.4</td>\n",
              "      <td>176.6</td>\n",
              "      <td>66.4</td>\n",
              "      <td>54.3</td>\n",
              "      <td>2824.0</td>\n",
              "      <td>136.0</td>\n",
              "      <td>3.19</td>\n",
              "      <td>3.40</td>\n",
              "      <td>...</td>\n",
              "      <td>0</td>\n",
              "      <td>0</td>\n",
              "      <td>0</td>\n",
              "      <td>0</td>\n",
              "      <td>0</td>\n",
              "      <td>0</td>\n",
              "      <td>0</td>\n",
              "      <td>1</td>\n",
              "      <td>0</td>\n",
              "      <td>0</td>\n",
              "    </tr>\n",
              "  </tbody>\n",
              "</table>\n",
              "<p>5 rows × 75 columns</p>\n",
              "</div>\n",
              "    <div class=\"colab-df-buttons\">\n",
              "\n",
              "  <div class=\"colab-df-container\">\n",
              "    <button class=\"colab-df-convert\" onclick=\"convertToInteractive('df-d0d36a1a-0f7c-42f4-a45a-48ede9f517c2')\"\n",
              "            title=\"Convert this dataframe to an interactive table.\"\n",
              "            style=\"display:none;\">\n",
              "\n",
              "  <svg xmlns=\"http://www.w3.org/2000/svg\" height=\"24px\" viewBox=\"0 -960 960 960\">\n",
              "    <path d=\"M120-120v-720h720v720H120Zm60-500h600v-160H180v160Zm220 220h160v-160H400v160Zm0 220h160v-160H400v160ZM180-400h160v-160H180v160Zm440 0h160v-160H620v160ZM180-180h160v-160H180v160Zm440 0h160v-160H620v160Z\"/>\n",
              "  </svg>\n",
              "    </button>\n",
              "\n",
              "  <style>\n",
              "    .colab-df-container {\n",
              "      display:flex;\n",
              "      gap: 12px;\n",
              "    }\n",
              "\n",
              "    .colab-df-convert {\n",
              "      background-color: #E8F0FE;\n",
              "      border: none;\n",
              "      border-radius: 50%;\n",
              "      cursor: pointer;\n",
              "      display: none;\n",
              "      fill: #1967D2;\n",
              "      height: 32px;\n",
              "      padding: 0 0 0 0;\n",
              "      width: 32px;\n",
              "    }\n",
              "\n",
              "    .colab-df-convert:hover {\n",
              "      background-color: #E2EBFA;\n",
              "      box-shadow: 0px 1px 2px rgba(60, 64, 67, 0.3), 0px 1px 3px 1px rgba(60, 64, 67, 0.15);\n",
              "      fill: #174EA6;\n",
              "    }\n",
              "\n",
              "    .colab-df-buttons div {\n",
              "      margin-bottom: 4px;\n",
              "    }\n",
              "\n",
              "    [theme=dark] .colab-df-convert {\n",
              "      background-color: #3B4455;\n",
              "      fill: #D2E3FC;\n",
              "    }\n",
              "\n",
              "    [theme=dark] .colab-df-convert:hover {\n",
              "      background-color: #434B5C;\n",
              "      box-shadow: 0px 1px 3px 1px rgba(0, 0, 0, 0.15);\n",
              "      filter: drop-shadow(0px 1px 2px rgba(0, 0, 0, 0.3));\n",
              "      fill: #FFFFFF;\n",
              "    }\n",
              "  </style>\n",
              "\n",
              "    <script>\n",
              "      const buttonEl =\n",
              "        document.querySelector('#df-d0d36a1a-0f7c-42f4-a45a-48ede9f517c2 button.colab-df-convert');\n",
              "      buttonEl.style.display =\n",
              "        google.colab.kernel.accessAllowed ? 'block' : 'none';\n",
              "\n",
              "      async function convertToInteractive(key) {\n",
              "        const element = document.querySelector('#df-d0d36a1a-0f7c-42f4-a45a-48ede9f517c2');\n",
              "        const dataTable =\n",
              "          await google.colab.kernel.invokeFunction('convertToInteractive',\n",
              "                                                    [key], {});\n",
              "        if (!dataTable) return;\n",
              "\n",
              "        const docLinkHtml = 'Like what you see? Visit the ' +\n",
              "          '<a target=\"_blank\" href=https://colab.research.google.com/notebooks/data_table.ipynb>data table notebook</a>'\n",
              "          + ' to learn more about interactive tables.';\n",
              "        element.innerHTML = '';\n",
              "        dataTable['output_type'] = 'display_data';\n",
              "        await google.colab.output.renderOutput(dataTable, element);\n",
              "        const docLink = document.createElement('div');\n",
              "        docLink.innerHTML = docLinkHtml;\n",
              "        element.appendChild(docLink);\n",
              "      }\n",
              "    </script>\n",
              "  </div>\n",
              "\n",
              "\n",
              "<div id=\"df-643be7d2-1a82-445e-8972-07b337e86256\">\n",
              "  <button class=\"colab-df-quickchart\" onclick=\"quickchart('df-643be7d2-1a82-445e-8972-07b337e86256')\"\n",
              "            title=\"Suggest charts\"\n",
              "            style=\"display:none;\">\n",
              "\n",
              "<svg xmlns=\"http://www.w3.org/2000/svg\" height=\"24px\"viewBox=\"0 0 24 24\"\n",
              "     width=\"24px\">\n",
              "    <g>\n",
              "        <path d=\"M19 3H5c-1.1 0-2 .9-2 2v14c0 1.1.9 2 2 2h14c1.1 0 2-.9 2-2V5c0-1.1-.9-2-2-2zM9 17H7v-7h2v7zm4 0h-2V7h2v10zm4 0h-2v-4h2v4z\"/>\n",
              "    </g>\n",
              "</svg>\n",
              "  </button>\n",
              "\n",
              "<style>\n",
              "  .colab-df-quickchart {\n",
              "      --bg-color: #E8F0FE;\n",
              "      --fill-color: #1967D2;\n",
              "      --hover-bg-color: #E2EBFA;\n",
              "      --hover-fill-color: #174EA6;\n",
              "      --disabled-fill-color: #AAA;\n",
              "      --disabled-bg-color: #DDD;\n",
              "  }\n",
              "\n",
              "  [theme=dark] .colab-df-quickchart {\n",
              "      --bg-color: #3B4455;\n",
              "      --fill-color: #D2E3FC;\n",
              "      --hover-bg-color: #434B5C;\n",
              "      --hover-fill-color: #FFFFFF;\n",
              "      --disabled-bg-color: #3B4455;\n",
              "      --disabled-fill-color: #666;\n",
              "  }\n",
              "\n",
              "  .colab-df-quickchart {\n",
              "    background-color: var(--bg-color);\n",
              "    border: none;\n",
              "    border-radius: 50%;\n",
              "    cursor: pointer;\n",
              "    display: none;\n",
              "    fill: var(--fill-color);\n",
              "    height: 32px;\n",
              "    padding: 0;\n",
              "    width: 32px;\n",
              "  }\n",
              "\n",
              "  .colab-df-quickchart:hover {\n",
              "    background-color: var(--hover-bg-color);\n",
              "    box-shadow: 0 1px 2px rgba(60, 64, 67, 0.3), 0 1px 3px 1px rgba(60, 64, 67, 0.15);\n",
              "    fill: var(--button-hover-fill-color);\n",
              "  }\n",
              "\n",
              "  .colab-df-quickchart-complete:disabled,\n",
              "  .colab-df-quickchart-complete:disabled:hover {\n",
              "    background-color: var(--disabled-bg-color);\n",
              "    fill: var(--disabled-fill-color);\n",
              "    box-shadow: none;\n",
              "  }\n",
              "\n",
              "  .colab-df-spinner {\n",
              "    border: 2px solid var(--fill-color);\n",
              "    border-color: transparent;\n",
              "    border-bottom-color: var(--fill-color);\n",
              "    animation:\n",
              "      spin 1s steps(1) infinite;\n",
              "  }\n",
              "\n",
              "  @keyframes spin {\n",
              "    0% {\n",
              "      border-color: transparent;\n",
              "      border-bottom-color: var(--fill-color);\n",
              "      border-left-color: var(--fill-color);\n",
              "    }\n",
              "    20% {\n",
              "      border-color: transparent;\n",
              "      border-left-color: var(--fill-color);\n",
              "      border-top-color: var(--fill-color);\n",
              "    }\n",
              "    30% {\n",
              "      border-color: transparent;\n",
              "      border-left-color: var(--fill-color);\n",
              "      border-top-color: var(--fill-color);\n",
              "      border-right-color: var(--fill-color);\n",
              "    }\n",
              "    40% {\n",
              "      border-color: transparent;\n",
              "      border-right-color: var(--fill-color);\n",
              "      border-top-color: var(--fill-color);\n",
              "    }\n",
              "    60% {\n",
              "      border-color: transparent;\n",
              "      border-right-color: var(--fill-color);\n",
              "    }\n",
              "    80% {\n",
              "      border-color: transparent;\n",
              "      border-right-color: var(--fill-color);\n",
              "      border-bottom-color: var(--fill-color);\n",
              "    }\n",
              "    90% {\n",
              "      border-color: transparent;\n",
              "      border-bottom-color: var(--fill-color);\n",
              "    }\n",
              "  }\n",
              "</style>\n",
              "\n",
              "  <script>\n",
              "    async function quickchart(key) {\n",
              "      const quickchartButtonEl =\n",
              "        document.querySelector('#' + key + ' button');\n",
              "      quickchartButtonEl.disabled = true;  // To prevent multiple clicks.\n",
              "      quickchartButtonEl.classList.add('colab-df-spinner');\n",
              "      try {\n",
              "        const charts = await google.colab.kernel.invokeFunction(\n",
              "            'suggestCharts', [key], {});\n",
              "      } catch (error) {\n",
              "        console.error('Error during call to suggestCharts:', error);\n",
              "      }\n",
              "      quickchartButtonEl.classList.remove('colab-df-spinner');\n",
              "      quickchartButtonEl.classList.add('colab-df-quickchart-complete');\n",
              "    }\n",
              "    (() => {\n",
              "      let quickchartButtonEl =\n",
              "        document.querySelector('#df-643be7d2-1a82-445e-8972-07b337e86256 button');\n",
              "      quickchartButtonEl.style.display =\n",
              "        google.colab.kernel.accessAllowed ? 'block' : 'none';\n",
              "    })();\n",
              "  </script>\n",
              "</div>\n",
              "    </div>\n",
              "  </div>\n"
            ]
          },
          "metadata": {},
          "execution_count": 107
        }
      ]
    },
    {
      "cell_type": "code",
      "source": [
        "from sklearn.model_selection import train_test_split # импортируем инструмент для разделения объектов на тестовую и основную выборки\n",
        "\n",
        "X_train, X_test, y_train, y_test = train_test_split(X_dum, y, test_size=0.3, random_state=42) # разбиваем данные на основную (train)\n",
        "# и тестовую (test) выборки. Размер тестовой - test_size=0.3, по усл., обязательно утсанавливаем random_state=42"
      ],
      "metadata": {
        "id": "MX6IP1YAZkZu"
      },
      "execution_count": null,
      "outputs": []
    },
    {
      "cell_type": "code",
      "source": [
        "print(X_train.shape, y_train.shape)\n",
        "print(X_test.shape, y_test.shape)"
      ],
      "metadata": {
        "colab": {
          "base_uri": "https://localhost:8080/"
        },
        "id": "tu3QGiEpfwCt",
        "outputId": "68cf6076-8aca-4e20-bb06-c5a86dd23d75"
      },
      "execution_count": null,
      "outputs": [
        {
          "output_type": "stream",
          "name": "stdout",
          "text": [
            "(140, 75) (140,)\n",
            "(61, 75) (61,)\n"
          ]
        }
      ]
    },
    {
      "cell_type": "code",
      "source": [
        "from sklearn.preprocessing import StandardScaler # инструмент для нормализации значений"
      ],
      "metadata": {
        "id": "JPK882JbXAIP"
      },
      "execution_count": null,
      "outputs": []
    },
    {
      "cell_type": "code",
      "source": [
        "X_train.columns # некоторые из названий солбцов являются просто числами"
      ],
      "metadata": {
        "colab": {
          "base_uri": "https://localhost:8080/"
        },
        "id": "h2ycmEWbQHtj",
        "outputId": "06337536-4659-4160-b32e-2b9481b52662"
      },
      "execution_count": null,
      "outputs": [
        {
          "output_type": "execute_result",
          "data": {
            "text/plain": [
              "Index([                0,                 1,                 9,\n",
              "                      10,                11,                12,\n",
              "                      13,                16,                18,\n",
              "                      19,                20,                21,\n",
              "                      22,                23,                24,\n",
              "         '2_alfa-romero',          '2_audi',           '2_bmw',\n",
              "           '2_chevrolet',         '2_dodge',         '2_honda',\n",
              "               '2_isuzu',        '2_jaguar',         '2_mazda',\n",
              "       '2_mercedes-benz',       '2_mercury',    '2_mitsubishi',\n",
              "              '2_nissan',        '2_peugot',      '2_plymouth',\n",
              "             '2_porsche',       '2_renault',          '2_saab',\n",
              "              '2_subaru',        '2_toyota',    '2_volkswagen',\n",
              "               '2_volvo',        '3_diesel',           '3_gas',\n",
              "                 '4_std',         '4_turbo',              '5_',\n",
              "                '5_four',           '5_two',   '6_convertible',\n",
              "             '6_hardtop',     '6_hatchback',         '6_sedan',\n",
              "               '6_wagon',           '7_4wd',           '7_fwd',\n",
              "                 '7_rwd',         '8_front',          '8_rear',\n",
              "               '14_dohc',            '14_l',          '14_ohc',\n",
              "               '14_ohcf',         '14_ohcv',        '14_rotor',\n",
              "              '15_eight',         '15_five',         '15_four',\n",
              "                '15_six',        '15_three',       '15_twelve',\n",
              "                '15_two',         '17_1bbl',         '17_2bbl',\n",
              "               '17_4bbl',          '17_idi',          '17_mfi',\n",
              "               '17_mpfi',         '17_spdi',         '17_spfi'],\n",
              "      dtype='object')"
            ]
          },
          "metadata": {},
          "execution_count": 111
        }
      ]
    },
    {
      "cell_type": "code",
      "source": [
        "X_train.columns = X_train.columns.astype(str)  # поэтому мы переводим все названия в строковый тип\n",
        "X_test.columns = X_test.columns.astype(str)"
      ],
      "metadata": {
        "id": "-HINgDqJZ-Ye"
      },
      "execution_count": null,
      "outputs": []
    },
    {
      "cell_type": "code",
      "source": [
        "scaler = StandardScaler() #создаем стандартный scaler\n",
        "scaler.fit(X_train)\n",
        "scaled_X_train = scaler.transform(X_train) # получаем преобразованные, нормализованные данные\n",
        "scaled_X_test = scaler.transform(X_test)"
      ],
      "metadata": {
        "id": "uPXPLMDPXAMm"
      },
      "execution_count": null,
      "outputs": []
    },
    {
      "cell_type": "code",
      "source": [
        "print(scaled_X_train.shape, y_train.shape)\n",
        "print(scaled_X_test.shape, y_test.shape)"
      ],
      "metadata": {
        "colab": {
          "base_uri": "https://localhost:8080/"
        },
        "id": "z5k1uzEoeogN",
        "outputId": "1a4ce970-62bb-4457-aecb-799b8158e011"
      },
      "execution_count": null,
      "outputs": [
        {
          "output_type": "stream",
          "name": "stdout",
          "text": [
            "(140, 75) (140,)\n",
            "(61, 75) (61,)\n"
          ]
        }
      ]
    },
    {
      "cell_type": "markdown",
      "metadata": {
        "id": "Qm7c7zIzBp0u"
      },
      "source": [
        "**Задание 2.3:** Обучите написанную вами линейную регрессию на обучающей выборке"
      ]
    },
    {
      "cell_type": "code",
      "source": [
        "class BaseLoss(abc.ABC):\n",
        "    \"\"\"Базовый класс лосса\"\"\"\n",
        "\n",
        "    @abc.abstractmethod\n",
        "    def calc_loss(self, X: np.ndarray, y: np.ndarray, w: np.ndarray) -> float:\n",
        "        \"\"\"\n",
        "        Функция для вычислений значения лосса\n",
        "        :param X: np.ndarray размера (n_objects, n_features) с объектами датасета\n",
        "        :param y: np.ndarray размера (n_objects,) с правильными ответами\n",
        "        :param w: np.ndarray размера (n_features,) с весами линейной регрессии\n",
        "        :return: число -- значения функции потерь\n",
        "        \"\"\"\n",
        "        raise NotImplementedError\n",
        "\n",
        "    @abc.abstractmethod\n",
        "    def calc_grad(self, X: np.ndarray, y: np.ndarray, w: np.ndarray) -> np.ndarray:\n",
        "        \"\"\"\n",
        "        Функция для вычислений градиента лосса по весам w\n",
        "        :param X: np.ndarray размера (n_objects, n_features) с объектами датасета\n",
        "        :param y: np.ndarray размера (n_objects,) с правильными ответами\n",
        "        :param w: np.ndarray размера (n_features,) с весами линейной регрессии\n",
        "        :return: np.ndarray размера (n_features,) градиент функции потерь по весам w\n",
        "        \"\"\"\n",
        "        raise NotImplementedError"
      ],
      "metadata": {
        "id": "ubGLJC8TcVSw"
      },
      "execution_count": null,
      "outputs": []
    },
    {
      "cell_type": "code",
      "source": [
        "from sklearn.metrics import r2_score\n",
        "from sklearn.linear_model import LinearRegression\n",
        "from sklearn.metrics import mean_squared_error"
      ],
      "metadata": {
        "id": "DpSiJgtkaqRn"
      },
      "execution_count": null,
      "outputs": []
    },
    {
      "cell_type": "markdown",
      "metadata": {
        "id": "NV1ye8-9F7_i"
      },
      "source": [
        "Создаем объект линейной регрессии для `MSELoss`:"
      ]
    },
    {
      "cell_type": "code",
      "execution_count": null,
      "metadata": {
        "id": "Cyfkw-L1Bp0t",
        "colab": {
          "base_uri": "https://localhost:8080/"
        },
        "outputId": "6d989b89-937f-4130-ab34-b06f58ab533b"
      },
      "outputs": [
        {
          "output_type": "stream",
          "name": "stdout",
          "text": [
            "(140, 75) (140,)\n"
          ]
        }
      ],
      "source": [
        "lr_1 = LinearRegression_1(MSELoss(), 0.01, 1000, X_train.shape[1]+1) # создавем элемент класса LinearRegression_1"
      ]
    },
    {
      "cell_type": "code",
      "source": [
        "lr_1.fit(scaled_X_train, y_train) # обучаем модель"
      ],
      "metadata": {
        "colab": {
          "base_uri": "https://localhost:8080/"
        },
        "id": "qI_D5s73ijg1",
        "outputId": "47c215dd-065a-468d-9d1e-40cb2f777ae0"
      },
      "execution_count": null,
      "outputs": [
        {
          "output_type": "execute_result",
          "data": {
            "text/plain": [
              "array([ 2.22670914e+01,  3.10038174e+01,  6.56976166e+02, -9.48943417e+01,\n",
              "        9.31084535e+02, -2.00911646e+02,  1.39176033e+03,  8.83103296e+02,\n",
              "       -2.50449507e+02, -3.59564371e+02,  3.59935455e+01,  7.56162865e+02,\n",
              "        3.34695575e+02, -4.75078840e+02,  8.15140885e+01,  1.28764345e+02,\n",
              "        4.67587802e+02,  1.03653475e+03,  1.81357628e+02, -3.16690769e+02,\n",
              "        2.24102979e+02, -3.74962888e+02,  9.09517147e+02,  4.82213482e+01,\n",
              "        4.27055873e+02, -2.28783494e+02, -2.34598690e+02,  1.06451587e+01,\n",
              "       -3.42433600e+02, -3.21396593e+02,  4.30735261e+02, -9.10830378e+01,\n",
              "        2.32639126e+02, -1.74597182e+02, -4.67876139e+02, -1.70899924e+02,\n",
              "       -1.86007450e+02,  1.34661754e+02, -1.35399089e+02, -3.68943094e+02,\n",
              "        3.69307236e+02, -1.16041516e+02,  2.17855422e+02, -1.97959960e+02,\n",
              "        5.99728430e+02, -6.73943619e+01,  4.76401180e+01, -3.67659359e+01,\n",
              "       -2.59764764e+02, -6.31777260e+01, -4.17550762e+02,  4.50688626e+02,\n",
              "       -4.31108913e+02,  4.28188268e+02, -1.40921154e+02, -2.65436077e+02,\n",
              "        4.66192607e+02, -1.95308508e+01, -4.02299870e+02, -3.30694002e+01,\n",
              "        1.79914341e+03, -2.87510539e+02, -5.01251174e+02,  5.93502443e+01,\n",
              "        1.79938500e+02,  1.06446242e+02, -3.22811709e+01, -3.22146246e+02,\n",
              "        4.52376577e+01, -3.30857388e+01,  1.34496227e+02, -5.55794094e+01,\n",
              "        9.44161139e+01, -1.65542737e+02,  1.32622618e+02,  1.27332500e+04])"
            ]
          },
          "metadata": {},
          "execution_count": 85
        }
      ]
    },
    {
      "cell_type": "markdown",
      "metadata": {
        "id": "rr1bF2_bBp0u"
      },
      "source": [
        "**Задание 2.4:** Посчитайте ошибку обученной регрессии на обучающей и тестовой выборке при помощи методов `mean_squared_error` и `r2_score` из `sklearn.metrics`."
      ]
    },
    {
      "cell_type": "markdown",
      "source": [
        "__Коэффициент детерминации $R^2$__ показывает долю дисперсии в целевой переменной, которая объяснена зависимыми переменными.   ($R^2$ можно интерпретировать как некоторого рода нормированное MSE).\n",
        "\n",
        "$$R^2(a, X, Y) = 1 - \\frac {\\sum^L_{i=1}(a(x_i) - y_i)^2}{\\sum^L_{i=1}(y_i - \\bar{y})^2}$$ или\n",
        "$$R^2(a, X, Y) = 1 - \\frac {\\frac{1}{l}\\sum^l_{i=1}(a(x_i) - y_i)^2}{\\frac{1}{l}\\sum^l_{i=1}(y_i - \\bar{y})^2}$$\n",
        "- Если $R^2 < 0$, значит наша модель даёт предсказание хуже константы в виде среднего значения целевой переменной, то есть абсолютно бесполезна с точки зрения MSE.\n",
        "- Если $R^2 = 0$, значит мы предсказываем не лучше и не хуже константы в виде среднего значения целевой переменной.\n",
        "- Если $0 < R^2 < 1$, значит модель работает лучше константного предсказания с точки зрения MSE.\n",
        "- Если $R^2 = 1$, значит ошибка MSE равна нулю.\n"
      ],
      "metadata": {
        "id": "Osk6WbklSEtR"
      }
    },
    {
      "cell_type": "code",
      "execution_count": null,
      "metadata": {
        "id": "lzjAlpliBp0u",
        "colab": {
          "base_uri": "https://localhost:8080/"
        },
        "outputId": "0340566b-0282-4388-a321-c50d54cf416a"
      },
      "outputs": [
        {
          "output_type": "stream",
          "name": "stdout",
          "text": [
            "Train MSE Error: 1236.908736713067\n",
            "R^2_score for train: 0.9682456805693624\n",
            "Test MSE Error: 2854.1267313780927\n",
            "R^2_score for test: 0.9140637525437691\n"
          ]
        }
      ],
      "source": [
        "y_train_pred = lr_1.predict(scaled_X_train) # строим предсказания для основной и тестовой выборки\n",
        "y_pred_test = lr_1.predict(scaled_X_test)\n",
        "\n",
        "print(f\"Train MSE Error: {mean_squared_error(y_train, y_train_pred)**0.5}\") # находим среднеквадратическую ошиибку (не забываем извлечь квадрат)\n",
        "print(f\"R^2_score for train: {r2_score(y_train, y_train_pred)}\")\n",
        "\n",
        "\n",
        "print(f\"Test MSE Error: {mean_squared_error(y_test, y_pred_test)**0.5}\")\n",
        "print(f\"R^2_score for test: {r2_score(y_test, y_pred_test)}\")\n",
        "\n"
      ]
    },
    {
      "cell_type": "markdown",
      "metadata": {
        "id": "SS5Oh4YoBp0v"
      },
      "source": [
        "Добавим к модели L2 регуляризацию (для борьбы с переобучением). Для этого нам нужно создать новый класс для нового функционала ошибки и его градиента.\n",
        "\n",
        "Формула функционала ошибки для MSE с L2 регуляризацией выглядит так:\n",
        "$$\n",
        "Q(w, X, y) = \\frac{1}{\\ell} \\sum\\limits_{i=1}^\\ell (\\langle x_i, w \\rangle - y_i)^2 + \\lambda ||w||^2\n",
        "$$\n",
        "\n",
        "Или в матричном виде:\n",
        "\n",
        "$$\n",
        "Q(w, X, y) = \\frac{1}{\\ell} || Xw - y ||^2 + \\lambda ||w||^2,\n",
        "$$\n",
        "\n",
        "где $\\lambda$ — коэффициент регуляризации\n",
        "\n",
        "Заметим, что (удобно для вычислений):\n",
        "$$\n",
        "Q(w, X, y) = \\frac{1}{\\ell} || Xw - y ||^2+\\lambda ||w||^2 =\\frac{1}{l} (y - Xw)^T(y-Xw)+ \\lambda w^Tw.\n",
        "$$\n",
        "\n",
        "Градиент $\\nabla_w Q(w, X, y)$ выглядит так:\n",
        "\n",
        "$$\n",
        "\\nabla_w Q(w, X, y) = \\frac{2}{\\ell} X^T(Xw-y) + 2 \\lambda w\n",
        "$$"
      ]
    },
    {
      "cell_type": "markdown",
      "metadata": {
        "id": "Vogzj2W0Bp0v"
      },
      "source": [
        "**Задание 2.5:** Реализуйте класс `MSEL2Loss`\n",
        "\n",
        "Он должен вычислять значение функционала ошибки (лосс) $\n",
        "Q(w, X, y)$ и его градиент $\\nabla_w Q(w, X, y)$ по формулам (выше).\n",
        "\n",
        "Подсказка: обратите внимание, что последний элемент вектора `w` — это bias (сдвиг) (в классе `LinearRegression` к матрице `X` добавляется колонка из единиц — константный признак). bias регуляризовать не нужно. Поэтому не забудьте убрать последний элемент из `w` при подсчёте слагаемого $\\lambda||w||^2$ в `calc_loss` и занулить его при подсчёте слагаемого $2 \\lambda w$ в `calc_grad`"
      ]
    },
    {
      "cell_type": "code",
      "execution_count": null,
      "metadata": {
        "id": "58FvnEjHBp0v"
      },
      "outputs": [],
      "source": [
        "class MSEL2Loss(BaseLoss):\n",
        "    def __init__(self, coef: float = 1.0):\n",
        "        \"\"\"\n",
        "        :param coef: коэффициент регуляризации (лямбда в формуле)\n",
        "        \"\"\"\n",
        "        self.coef = coef\n",
        "\n",
        "    def calc_loss(self, X: np.ndarray, y: np.ndarray, w: np.ndarray) -> float:\n",
        "        \"\"\"\n",
        "        Функция для вычислений значения лосса\n",
        "        :param X: np.ndarray размера (n_objects, n_features) с объектами датасета. Последний признак константный.\n",
        "        :param y: np.ndarray размера (n_objects,) с правильными ответами\n",
        "        :param w: np.ndarray размера (n_features,) с весами линейной регрессии. Последний вес -- bias.\n",
        "        :output: число -- значения функции потерь\n",
        "        \"\"\"\n",
        "        # -- YOUR CODE HERE --\n",
        "        # Вычислите значение функции потерь при помощи X, y и w и верните его\n",
        "        return (1/len(y)) * (y - X.dot(w)).T.dot(y - X.dot(w)) + self.coef*w[:-1].T.dot(w[:-1]) # реализация формулы (берем все элементы w, кроме последнего)\n",
        "\n",
        "    def calc_grad(self, X: np.ndarray, y: np.ndarray, w: np.ndarray) -> np.ndarray:\n",
        "        \"\"\"\n",
        "        Функция для вычислений градиента лосса по весам w\n",
        "        :param X: np.ndarray размера (n_objects, n_features) с объектами датасета\n",
        "        :param y: np.ndarray размера (n_objects,) с правильными ответами\n",
        "        :param w: np.ndarray размера (n_features,) с весами линейной регрессии\n",
        "        :output: np.ndarray размера (n_features,) градиент функции потерь по весам w\n",
        "        \"\"\"\n",
        "        # -- YOUR CODE HERE --\n",
        "        # Вычислите значение вектора градиента при помощи X, y и w и верните его\n",
        "        return (2/len(y))*X.T.dot(X.dot(w) - y) + 2*self.coef*np.append(w[:-1], 0) # берем все элменеты, кроме последнего и дробавляем в этот список 0 послденим\n"
      ]
    },
    {
      "cell_type": "code",
      "execution_count": null,
      "metadata": {
        "id": "ygbjCwotF7_k",
        "colab": {
          "base_uri": "https://localhost:8080/"
        },
        "outputId": "4f66edf8-aae7-49aa-c3a8-4dbcdb84bd2a"
      },
      "outputs": [
        {
          "output_type": "stream",
          "name": "stdout",
          "text": [
            "27410487.5\n",
            "[1163180. 1172283. 1181386. 1190489. 1199592. 1208695. 1217798. 1226901.\n",
            " 1236004. 1245089.]\n",
            "Всё верно!\n"
          ]
        }
      ],
      "source": [
        "#Проверка:\n",
        "#Создадим объект лосса\n",
        "losst = MSEL2Loss()\n",
        "\n",
        "# Создадим датасет\n",
        "Xt = np.arange(200).reshape(20, 10)\n",
        "yt = np.arange(20)\n",
        "\n",
        "# Создадим вектор весов\n",
        "wt = np.arange(10)\n",
        "\n",
        "#print(Xt)\n",
        "#print(yt)\n",
        "#print(wt)\n",
        "\n",
        "# Выведем значение лосса и градиента на этом датасете с этим вектором весов\n",
        "print(losst.calc_loss(Xt, yt, wt))\n",
        "print(losst.calc_grad(Xt, yt, wt))\n",
        "\n",
        "# Проверка, что методы реализованы правильно\n",
        "assert losst.calc_loss(Xt, yt, wt) == 27410487.5, \"Метод calc_loss реализован неверно\"\n",
        "assert np.allclose(\n",
        "    losst.calc_grad(Xt, yt, wt),\n",
        "    np.array(\n",
        "        [\n",
        "            1163180.0,\n",
        "            1172283.0,\n",
        "            1181386.0,\n",
        "            1190489.0,\n",
        "            1199592.0,\n",
        "            1208695.0,\n",
        "            1217798.0,\n",
        "            1226901.0,\n",
        "            1236004.0,\n",
        "            1245089.0,\n",
        "        ]\n",
        "    ),\n",
        "), \"Метод calc_grad реализован неверно\"\n",
        "\n",
        "print(\"Всё верно!\")"
      ]
    },
    {
      "cell_type": "markdown",
      "metadata": {
        "id": "lTl1XQP5Bp0v"
      },
      "source": [
        "Теперь мы можем использовать лосс с l2 регуляризацией в нашей регрессии. Пусть:"
      ]
    },
    {
      "cell_type": "code",
      "execution_count": null,
      "metadata": {
        "id": "QanspiddBp0v"
      },
      "outputs": [],
      "source": [
        "lr_1_l2 = LinearRegression_1(MSEL2Loss(0.1) , 0.01, 1000, X_train.shape[1]+1)"
      ]
    },
    {
      "cell_type": "markdown",
      "metadata": {
        "id": "VwmC8B0OBp0w"
      },
      "source": [
        "**Задание 2.6:** Обучите регрессию с лоссом `MSEL2Loss`. Попробуйте использовать другие коэффициенты регуляризации. Получилось ли улучшить разультат на тестовой выборке? Сравните результат применения регрессии с регуляризацией к обучающей и тестовой выборкам с результатом применения регрессии без регуляризации к тем же выборкам.(Для оценки качества использовать методы `mean_squared_error` и `r2_score` из `sklearn.metrics`)."
      ]
    },
    {
      "cell_type": "code",
      "execution_count": null,
      "metadata": {
        "id": "9FId8tKOBp0w",
        "colab": {
          "base_uri": "https://localhost:8080/"
        },
        "outputId": "a3887409-242f-42a1-972a-0c112d89fc24"
      },
      "outputs": [
        {
          "output_type": "execute_result",
          "data": {
            "text/plain": [
              "array([ 8.54049316e+01,  9.32831309e+01,  5.75065607e+02,  2.20563607e+02,\n",
              "        7.51503306e+02, -9.78148446e+01,  9.16023479e+02,  8.50238783e+02,\n",
              "       -7.99069429e+01, -2.54736909e+02,  5.98793118e+01,  6.47120299e+02,\n",
              "        9.83811752e+01, -3.86196188e+02, -1.51827052e+02,  6.90803956e+01,\n",
              "        3.58613250e+02,  9.25480647e+02,  1.48841724e+02, -2.10713911e+02,\n",
              "        1.41953788e+02, -3.16340695e+02,  7.78359366e+02,  2.86714365e+01,\n",
              "        5.95494796e+02, -1.42743799e+02, -1.80322102e+02, -1.16373436e+02,\n",
              "       -2.96988595e+02, -2.48489110e+02,  4.13708205e+02, -1.07544610e+02,\n",
              "        1.97898075e+02, -2.20272526e+02, -4.54959696e+02, -1.76548389e+02,\n",
              "        4.92408115e+00,  1.07031786e+02, -1.06876570e+02, -2.91570287e+02,\n",
              "        2.91385229e+02, -1.06624034e+02,  1.50084847e+02, -1.32400562e+02,\n",
              "        5.06408042e+02, -6.75788341e+00, -1.78815035e+01,  2.59880147e+01,\n",
              "       -2.46489875e+02, -2.75613491e+01, -3.46048021e+02,  3.63264079e+02,\n",
              "       -4.13969200e+02,  4.13935279e+02, -4.10450008e+01, -2.33907071e+02,\n",
              "        2.80459185e+02, -6.65036539e+01, -1.44168681e+02, -2.93196475e+01,\n",
              "        1.41677036e+03, -1.24720953e+02, -5.25826852e+02,  1.17820274e+02,\n",
              "        1.49013735e+02,  2.09373567e+02, -2.89233001e+01, -1.68427880e+02,\n",
              "       -5.88155803e+01, -2.92918904e+01,  1.07177967e+02, -6.53896403e+01,\n",
              "        1.22230732e+02, -1.22754926e+02,  1.03831938e+02,  1.27332500e+04])"
            ]
          },
          "metadata": {},
          "execution_count": 91
        }
      ],
      "source": [
        "lr_1_l2.fit(scaled_X_train, y_train)"
      ]
    },
    {
      "cell_type": "code",
      "source": [
        "# Без регуляризации:\n",
        "#обучение\n",
        "# self, X: np.ndarray, y: np.ndarray, n_iterations: int = 100000, n_features: int = 2\n",
        "\n",
        "y_train_pred = lr_1.predict(scaled_X_train) #предсказание\n",
        "y_pred_test = lr_1.predict(scaled_X_test)   #предсказание\n",
        "\n",
        "print(f\"Train MSE Error: {mean_squared_error(y_train, y_train_pred)**0.5}\") #**0.5\n",
        "print(f\"R^2_score for train: {r2_score(y_train, y_train_pred)}\")\n",
        "\n",
        "\n",
        "print(f\"Test MSE Error: {mean_squared_error(y_test, y_pred_test)**0.5}\")    #**0.5\n",
        "print(f\"R^2_score for test: {r2_score(y_test, y_pred_test)}\")\n",
        "\n",
        "# r2_score(y_train, pred_train), r2_score(y_test, pred_test) #"
      ],
      "metadata": {
        "colab": {
          "base_uri": "https://localhost:8080/"
        },
        "id": "C0zmxuA9JOHp",
        "outputId": "5a3d9ec1-2557-468d-aa4e-6166f817e69f"
      },
      "execution_count": null,
      "outputs": [
        {
          "output_type": "stream",
          "name": "stdout",
          "text": [
            "Train MSE Error: 1236.908736713067\n",
            "R^2_score for train: 0.9682456805693624\n",
            "Test MSE Error: 2854.1267313780927\n",
            "R^2_score for test: 0.9140637525437691\n"
          ]
        }
      ]
    },
    {
      "cell_type": "code",
      "source": [
        "# C регуляризацией и параметром lambda = 0.1:\n",
        "#обучение\n",
        "# self, X: np.ndarray, y: np.ndarray, n_iterations: int = 100000, n_features: int = 2\n",
        "\n",
        "y_train_pred = lr_1_l2.predict(scaled_X_train) #предсказание\n",
        "y_pred_test = lr_1_l2.predict(scaled_X_test)   #предсказание\n",
        "\n",
        "print(f\"Train MSE Error (reg, lambda = 0.1): {mean_squared_error(y_train, y_train_pred)**0.5}\") #**0.5\n",
        "print(f\"R^2_score for train (reg, lambda = 0.1): {r2_score(y_train, y_train_pred)}\")\n",
        "\n",
        "\n",
        "print(f\"Test MSE Error (reg, lambda = 0.1): {mean_squared_error(y_test, y_pred_test)**0.5}\")    #**0.5\n",
        "print(f\"R^2_score for test (reg, lambda = 0.1): {r2_score(y_test, y_pred_test)}\")\n",
        "\n",
        "# r2_score(y_train, pred_train), r2_score(y_test, pred_test) #"
      ],
      "metadata": {
        "colab": {
          "base_uri": "https://localhost:8080/"
        },
        "id": "UkBfjkDwKLEV",
        "outputId": "979af60c-dd12-4e84-cdcf-bae0e48e8510"
      },
      "execution_count": null,
      "outputs": [
        {
          "output_type": "stream",
          "name": "stdout",
          "text": [
            "Train MSE Error (reg, lambda = 0.1): 1331.9565920728419\n",
            "R^2_score for train (reg, lambda = 0.1): 0.9631779775724871\n",
            "Test MSE Error (reg, lambda = 0.1): 2822.1108152320444\n",
            "R^2_score for test (reg, lambda = 0.1): 0.9159809037858022\n"
          ]
        }
      ]
    },
    {
      "cell_type": "code",
      "source": [
        "# C регуляризацией и параметром lambda = 0.01:\n",
        "lr_1_l3 = LinearRegression_1(MSEL2Loss(0.01) , 0.01, 1000, X_train.shape[1]+1)\n",
        "lr_1_l3.fit(scaled_X_train, y_train)\n",
        "\n",
        "y_train_pred = lr_1_l3.predict(scaled_X_train) #предсказание\n",
        "y_pred_test = lr_1_l3.predict(scaled_X_test)   #предсказание\n",
        "\n",
        "print(f\"Train MSE Error (reg, lambda = 0.01): {mean_squared_error(y_train, y_train_pred)**0.5}\") #**0.5\n",
        "print(f\"R^2_score for train (reg, lambda = 0.01): {r2_score(y_train, y_train_pred)}\")\n",
        "\n",
        "\n",
        "print(f\"Test MSE Error (reg, lambda = 0.01): {mean_squared_error(y_test, y_pred_test)**0.5}\")    #**0.5\n",
        "print(f\"R^2_score for test (reg, lambda = 0.01): {r2_score(y_test, y_pred_test)}\")\n",
        "\n",
        "# r2_score(y_train, pred_train), r2_score(y_test, pred_test) #"
      ],
      "metadata": {
        "colab": {
          "base_uri": "https://localhost:8080/"
        },
        "id": "5OJ2igXLKUev",
        "outputId": "ce598ec6-ac15-4929-9414-dd7f3b442663"
      },
      "execution_count": null,
      "outputs": [
        {
          "output_type": "stream",
          "name": "stdout",
          "text": [
            "Train MSE Error (reg, lambda = 0.01): 1245.0843057883862\n",
            "R^2_score for train (reg, lambda = 0.01): 0.9678245216070003\n",
            "Test MSE Error (reg, lambda = 0.01): 2841.361636666552\n",
            "R^2_score for test (reg, lambda = 0.01): 0.914830734046163\n"
          ]
        }
      ]
    },
    {
      "cell_type": "code",
      "source": [
        "# C регуляризацией и параметром lambda = 0.11:\n",
        "lr_1_l4 = LinearRegression_1(MSEL2Loss(0.11) , 0.01, 1000, X_train.shape[1]+1)\n",
        "lr_1_l4.fit(scaled_X_train, y_train)\n",
        "\n",
        "y_train_pred = lr_1_l4.predict(scaled_X_train) #предсказание\n",
        "y_pred_test = lr_1_l4.predict(scaled_X_test)   #предсказание\n",
        "\n",
        "print(f\"Train MSE Error (reg, lambda = 0.11): {mean_squared_error(y_train, y_train_pred)**0.5}\") #**0.5\n",
        "print(f\"R^2_score for train (reg, lambda = 0.11): {r2_score(y_train, y_train_pred)}\")\n",
        "\n",
        "\n",
        "print(f\"Test MSE Error (reg, lambda = 0.11): {mean_squared_error(y_test, y_pred_test)**0.5}\")    #**0.5\n",
        "print(f\"R^2_score for test (reg, lambda = 0.11): {r2_score(y_test, y_pred_test)}\")\n",
        "\n",
        "# r2_score(y_train, pred_train), r2_score(y_test, pred_test) #"
      ],
      "metadata": {
        "colab": {
          "base_uri": "https://localhost:8080/"
        },
        "id": "N1CXcSq-WDny",
        "outputId": "c0d2312e-01d9-4974-c22b-39f8f2cd8eae"
      },
      "execution_count": null,
      "outputs": [
        {
          "output_type": "stream",
          "name": "stdout",
          "text": [
            "Train MSE Error (reg, lambda = 0.11): 1341.516008266429\n",
            "R^2_score for train (reg, lambda = 0.11): 0.9626475396045333\n",
            "Test MSE Error (reg, lambda = 0.11): 2825.5666475570392\n",
            "R^2_score for test (reg, lambda = 0.11): 0.9157750056434898\n"
          ]
        }
      ]
    },
    {
      "cell_type": "markdown",
      "source": [
        "## Вывод\n",
        "\n",
        "**Попробуйте использовать другие коэффициенты регуляризации. Получилось ли улучшить разультат на тестовой выборке? Сравните результат применения регрессии с регуляризацией к обучающей и тестовой выборкам с результатом применения регрессии без регуляризации к тем же выборкам**\n",
        "\n",
        "Использование параметра регуляризации в линейной регрессии имеет несколько преимуществ:\n",
        "\n",
        "1. Снижение переобучения: Параметр регуляризации помогает предотвратить переобучение модели, то есть модель, которая слишком хорошо запоминает тренировочные данные и не обобщается для новых данных. Это достигается за счет штрафа за большие значения весов модели, что приводит к более устойчивой модели.\n",
        "\n",
        "2. Улучшение обобщающей способности: Параметр регуляризации также помогает улучшить способность модели обобщать, то есть способность модели выдавать правильные предсказания на новых данных.\n",
        "\n",
        "3. Уменьшение мультиколлинеарности: Параметр регуляризации может помочь уменьшить мультиколлинеарность, то есть связь между признаками, что может привести к нестабильности модели.\n",
        "\n",
        "\n",
        "Попробовала обучить модель с заданным павраметром регуляризации λ = 0.1, ошибка на тестовой выборке немного уменьшилась (было: `Test MSE Error: 2854.1267313780927`, стало: `Test MSE Error (reg, lambda = 0.1): 2822.1108152320444`). Ошибка на основной выборке же, наоборот, возрасла.\n",
        "\n",
        "Если говорить про значение параметра λ = 0.01, то ошибка и на тестовой, и на тренировочной выборке увеличилась.\n",
        "\n"
      ],
      "metadata": {
        "id": "V5MAvWWJTT1o"
      }
    }
  ],
  "metadata": {
    "colab": {
      "provenance": []
    },
    "kernelspec": {
      "display_name": "Python 3 (ipykernel)",
      "language": "python",
      "name": "python3"
    },
    "language_info": {
      "codemirror_mode": {
        "name": "ipython",
        "version": 3
      },
      "file_extension": ".py",
      "mimetype": "text/x-python",
      "name": "python",
      "nbconvert_exporter": "python",
      "pygments_lexer": "ipython3",
      "version": "3.10.9"
    }
  },
  "nbformat": 4,
  "nbformat_minor": 0
}