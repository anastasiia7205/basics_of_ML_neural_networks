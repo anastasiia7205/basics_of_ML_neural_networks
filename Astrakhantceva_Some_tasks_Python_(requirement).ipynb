{
  "cells": [
    {
      "cell_type": "markdown",
      "metadata": {
        "id": "ZBj4CInTbrUv"
      },
      "source": [
        "# Разные задачи для решения на Python (по темам)"
      ],
      "id": "ZBj4CInTbrUv"
    },
    {
      "cell_type": "markdown",
      "metadata": {
        "id": "K4ZitqvrbrUx"
      },
      "source": [
        "# 2*"
      ],
      "id": "K4ZitqvrbrUx"
    },
    {
      "cell_type": "markdown",
      "metadata": {
        "id": "KaYRLalQbrUy"
      },
      "source": [
        "## Условный оператор"
      ],
      "id": "KaYRLalQbrUy"
    },
    {
      "cell_type": "markdown",
      "metadata": {
        "id": "qqIOtIawbrUy"
      },
      "source": [
        "### Задача 6. Проверка логина и пароля\n",
        "\n",
        "Даны два имени пользователя (bender, calculon) и пароли этих пользователей соответственно (BENDER и CALCULON).\n",
        "\n",
        "Необходимо написать программу, принимающую от пользователя логин и пароль, проверяет их и выводит одно из следующих сообщений:\n",
        "\n",
        "- \"successful connection\", если проверка прошла успешно;\n",
        "\n",
        "- \"unsuccessful connection\", если проверка не прошла;\n",
        "\n",
        "- \"unknown user\", если введено неизвестное программе имя пользователя."
      ],
      "id": "qqIOtIawbrUy"
    },
    {
      "cell_type": "code",
      "execution_count": null,
      "metadata": {
        "id": "80yRvhEDbrUz",
        "outputId": "d4fe244e-ff89-4020-b147-f6dd669ec5f2"
      },
      "outputs": [
        {
          "name": "stdout",
          "output_type": "stream",
          "text": [
            "login: calculon\n",
            "password: CALCULON\n",
            "successful connection\n"
          ]
        }
      ],
      "source": [
        "bender_login = \"bender\"\n",
        "bender_password = \"BENDER\"\n",
        "calculon_login = \"calculon\"\n",
        "calculon_password = \"CALCULON\"\n",
        "login = input(\"login: \")\n",
        "\n",
        "# место для вашего кода\n",
        "if login == bender_login:\n",
        "    password = input(\"password: \")\n",
        "    if password == bender_password:\n",
        "        print(\"successful connection\")\n",
        "    else:\n",
        "        print(\"unsuccessful connection\")\n",
        "elif login == calculon_login:\n",
        "    password = input(\"password: \")\n",
        "    if password == calculon_password:\n",
        "        print(\"successful connection\")\n",
        "    else:\n",
        "        print(\"unsuccessful connection\")\n",
        "else:\n",
        "    print(\"unknown user\")"
      ],
      "id": "80yRvhEDbrUz"
    },
    {
      "cell_type": "markdown",
      "metadata": {
        "id": "vqPVPf1lbrU1"
      },
      "source": [
        "### Тесты:\n",
        "\n",
        "Входные данные:  \n",
        "bender   \n",
        "BENDER  \n",
        "Выходные данные: successful connection  \n",
        "\n",
        "Входные данные:  \n",
        "calculon  \n",
        "BENDER  \n",
        "Выходные данные: unsuccessful connection\n",
        "\n",
        "Входные данные:  \n",
        "crushinator  \n",
        "Выходные данные: unknown user\n",
        "\n",
        "Входные данные:  \n",
        "user1  \n",
        "Выходные данные: unknown user\n",
        "\n",
        "Входные данные:\n",
        "calculon  \n",
        "CALCULON  \n",
        "Выходные данные: successful connection"
      ],
      "id": "vqPVPf1lbrU1"
    },
    {
      "cell_type": "markdown",
      "metadata": {
        "id": "IeNKY2j0brU2"
      },
      "source": [
        "## Функции. Начало"
      ],
      "id": "IeNKY2j0brU2"
    },
    {
      "cell_type": "markdown",
      "metadata": {
        "id": "htcq7JkgbrU2"
      },
      "source": [
        "### Задача 5. Оценка за курс\n",
        "\n",
        "Университет вычисляет итоговые оценки студентов на основе их промежуточных и итоговых экзаменационных баллов. Итоговая оценка определяется путем взятия 40% от промежуточной оценки и 60% от оценки за итоговый экзамен. Если итоговая оценка больше 60 баллов, то курс считается успешно пройденным.\n",
        "\n",
        "Напишите функцию Python, которая принимает на вход промежуточные и итоговые экзаменационные оценки и возвращает строку  \"Зачет\" в случае успешного прохождения курса и \"Незачет\" в случае неудачного прохождения курса.\n",
        "\n",
        "*Подсказка. Используйте только операторы if и основные арифметические операции `(+, -, *, /)`, а также определите свои собственные функции.*"
      ],
      "id": "htcq7JkgbrU2"
    },
    {
      "cell_type": "code",
      "execution_count": null,
      "metadata": {
        "id": "gl5wQs8DbrU2",
        "outputId": "97e83a49-7897-4344-e4d3-7a5c1df67a8c"
      },
      "outputs": [
        {
          "name": "stdout",
          "output_type": "stream",
          "text": [
            "Введите промежуточный балл 80\n",
            "Введите экземенационный балл 90\n"
          ]
        },
        {
          "data": {
            "text/plain": [
              "'Зачет'"
            ]
          },
          "execution_count": 9,
          "metadata": {},
          "output_type": "execute_result"
        }
      ],
      "source": [
        "term_score = int(input(\"Введите промежуточный балл: \"))\n",
        "exam_score = int(input(\"Введите экземенационный балл: \"))\n",
        "\n",
        "def result(term, exam):\n",
        "\n",
        "    result_value = term*0.4 + exam*0.6\n",
        "    if result_value > 60:\n",
        "        return \"Зачет\"\n",
        "    else:\n",
        "        return \"Незачет\"\n",
        "\n",
        "result(term_score, exam_score)"
      ],
      "id": "gl5wQs8DbrU2"
    },
    {
      "cell_type": "markdown",
      "metadata": {
        "id": "w5dy6WAUbrU3"
      },
      "source": [
        "### Тесты:\n",
        "\n",
        "Входные данные:  \n",
        "50  \n",
        "70  \n",
        "Выходные данные: Зачет\n",
        "\n",
        "Входные данные:  \n",
        "30  \n",
        "50  \n",
        "Выходные данные: Незачет\n",
        "\n",
        "Входные данные:\n",
        "40  \n",
        "60  \n",
        "Выходные данные: Незачет\n",
        "\n",
        "Входные данные:  \n",
        "80  \n",
        "90  \n",
        "Выходные данные: Зачет\n",
        "\n",
        "Входные данные:  \n",
        "70  \n",
        "40  \n",
        "Выходные данные: Незачет"
      ],
      "id": "w5dy6WAUbrU3"
    },
    {
      "cell_type": "markdown",
      "metadata": {
        "id": "zIIRuuWlbrU3"
      },
      "source": [
        "## Строки"
      ],
      "id": "zIIRuuWlbrU3"
    },
    {
      "cell_type": "markdown",
      "metadata": {
        "id": "PjGBWn69brU3"
      },
      "source": [
        "### Задача 3. Проверка паспорта\n",
        "\n",
        "Известно, что номера паспортов в России состоят из 6 цифр. Допустим, что паспорта нового образца начинаются с номеров 75 и 76.\n",
        "\n",
        "Напишите функцию, принимающую на вход номер паспорта и возвращающую \"new\", если передан номер паспорта нового образца, и \"old\", если передан номер паспорта старого образца. Также функция должна вернуть \"wrong number\", если передана строка, не соответствующая правилам формирования номера паспорта.\n",
        "\n",
        "Выведите на экран результат работы функции."
      ],
      "id": "PjGBWn69brU3"
    },
    {
      "cell_type": "code",
      "execution_count": null,
      "metadata": {
        "id": "tCBBCiyUbrU3",
        "outputId": "8cfb41a9-967c-41fc-ecde-f4ac47ab1bec"
      },
      "outputs": [
        {
          "name": "stdout",
          "output_type": "stream",
          "text": [
            "Введите номер паспорта: 123abc\n",
            "wrong number\n"
          ]
        }
      ],
      "source": [
        "line = input(\"Введите номер паспорта: \")\n",
        "\n",
        "# Ваш код\n",
        "\n",
        "if len(line) == 6:\n",
        "    if line.isnumeric():\n",
        "        if (int(line) // 10000) == 75:\n",
        "            print('new')\n",
        "\n",
        "        elif (int(line) // 10000) == 76:\n",
        "            print('new')\n",
        "\n",
        "        else:\n",
        "            print(\"old\")\n",
        "    else:\n",
        "        print( \"wrong number\")\n",
        "\n",
        "else:\n",
        "    print( \"wrong number\")\n"
      ],
      "id": "tCBBCiyUbrU3"
    },
    {
      "cell_type": "markdown",
      "metadata": {
        "id": "nRdPMxYfbrU4"
      },
      "source": [
        "### Тесты:\n",
        "\n",
        "Входные данные:  \n",
        "751234  \n",
        "Выходные данные: new\n",
        "    \n",
        "Входные данные:  \n",
        "551234  \n",
        "Выходные данные:old\n",
        "    \n",
        "Входные данные:  \n",
        "123asd  \n",
        "Выходные данные: wrong number\n",
        "\n",
        "Входные данные:  \n",
        "7654321  \n",
        "Выходные данные: wrong number\n",
        "     \n",
        "Входные данные:  \n",
        "1245  \n",
        "Выходные данные: wrong number"
      ],
      "id": "nRdPMxYfbrU4"
    },
    {
      "cell_type": "markdown",
      "metadata": {
        "id": "Fh4OQPIvbrU4"
      },
      "source": [
        "### Задача 9. Обращения маркетологов"
      ],
      "id": "Fh4OQPIvbrU4"
    },
    {
      "cell_type": "markdown",
      "metadata": {
        "id": "8poiJCBfbrU4"
      },
      "source": [
        "Менеджер Игорь получает очень много сообщений от назойливых маркетологов. Ему стало интересно, сколько раз они обращаются к нему по имени в письмах. Помогите Игорю посчитать количество вхождений его имени в письмо, поданное на вход.\n",
        "\n",
        "*Подсказка. Требуется посчитать именно количество вхождений имени \"Игорь\", без учета его всевозможных видоизменений. Но учтите, что имя может быть написано в разных регистрах.*"
      ],
      "id": "8poiJCBfbrU4"
    },
    {
      "cell_type": "code",
      "execution_count": null,
      "metadata": {
        "colab": {
          "base_uri": "https://localhost:8080/"
        },
        "id": "0wq7IcqCbrU4",
        "outputId": "d2c55eeb-e5fd-463a-f6be-eef9db5cd629"
      },
      "outputs": [
        {
          "output_type": "stream",
          "name": "stdout",
          "text": [
            "Введите сообщение: Игорь, узнайте тайну имени Игорь всего за 100 рублей отправив смс с кодом ИГОРЬ на номер 5553535\n",
            "3\n"
          ]
        }
      ],
      "source": [
        "text = input(\"Введите сообщение: \")\n",
        "name_igor = \"игорь\"\n",
        "# Ваш код\n",
        "counter = 0;\n",
        "small_text = text.lower()\n",
        "sp_text = small_text.split()\n",
        "for name in sp_text:\n",
        "    if name_igor in name:\n",
        "        counter = counter + 1\n",
        "print(counter)\n"
      ],
      "id": "0wq7IcqCbrU4"
    },
    {
      "cell_type": "markdown",
      "metadata": {
        "id": "0JN4N_y5brU4"
      },
      "source": [
        "### Тесты:\n",
        "\n",
        "Входные данные:    \n",
        "некоторое письмо, Игорь  \n",
        "Выходные данные: 1\n",
        "\n",
        "Входные данные:    \n",
        "вам снова письмо, Игорь. Почему вы не отвечаете, Игорь?  \n",
        "Выходные данные: 2\n",
        "\n",
        "Входные данные:  \n",
        "спишь?  \n",
        "Выходные данные: 0\n",
        "\n",
        "Входные данные:  \n",
        "Игорь, узнайте тайну имени Игорь всего за 100 рублей отправив смс с кодом ИГОРЬ на номер 5553535  \n",
        "Выходные данные: 3\n",
        "\n",
        "Входные данные:  \n",
        "спишь? игорь???  \n",
        "Выходные данные: 1"
      ],
      "id": "0JN4N_y5brU4"
    },
    {
      "cell_type": "markdown",
      "metadata": {
        "id": "sbrHECmQbrU4"
      },
      "source": [
        "### Задача 10. Подсчёт предложений\n",
        "\n",
        "В переменной text сохранен некоторый текст. Посчитайте количество предложений в тексте, и выведите их сумму на экран.\n",
        "Если текст состоит из одного предложения, то выведите сообщение \"слишком короткий текст\".\n",
        "\n",
        "*Подсказка. Количество предложений равно количеству точек.*"
      ],
      "id": "sbrHECmQbrU4"
    },
    {
      "cell_type": "code",
      "execution_count": null,
      "metadata": {
        "colab": {
          "base_uri": "https://localhost:8080/"
        },
        "id": "0Dh7lGQybrU5",
        "outputId": "e5fecc9a-42c8-4c86-eee9-ec12b05bac33"
      },
      "outputs": [
        {
          "output_type": "stream",
          "name": "stdout",
          "text": [
            "Ведите предложения: Я-я еще расту. Не смотрите на меня. Скоро все будет. Но пока еще не готово.\n",
            "4\n"
          ]
        }
      ],
      "source": [
        "text = input(\"Ведите предложения: \")\n",
        "\n",
        "counter = text.count(\".\")\n",
        "if counter == 1:\n",
        "    print(\"слишком короткий текст\")\n",
        "else:\n",
        "    print(counter)\n"
      ],
      "id": "0Dh7lGQybrU5"
    },
    {
      "cell_type": "markdown",
      "metadata": {
        "id": "vVEg4ZgjbrU5"
      },
      "source": [
        "### Тесты:\n",
        "\n",
        "Входные данные:  \n",
        "Я короткий текст.  \n",
        "Выходные данные: слишком короткий текст\n",
        "    \n",
        "Входные данные:  \n",
        "Я текст подлиннее, но все еще короткий текст.  \n",
        "Выходные данные: слишком короткий текст\n",
        "    \n",
        "Входные данные:  \n",
        "Я очень недлинный текст. Но я еще вырасту. Вот увидите, я вам всем покажу.  \n",
        "Выходные данные: 3\n",
        "    \n",
        "Входные данные:  \n",
        "Я-я еще расту. Не смотрите на меня. Скоро все будет. Но пока еще не готово.  \n",
        "Выходные данные: 4"
      ],
      "id": "vVEg4ZgjbrU5"
    },
    {
      "cell_type": "markdown",
      "metadata": {
        "id": "yPtQntIYbrU5"
      },
      "source": [
        "## Циклы"
      ],
      "id": "yPtQntIYbrU5"
    },
    {
      "cell_type": "markdown",
      "metadata": {
        "id": "H2nwEGGbbrU5"
      },
      "source": [
        "### Задача 6. Сумма целых чисел\n",
        "\n",
        "Дано целое положительное число N. Выведите максимально возможную сумму последовательных целых чисел от 1 до n так, чтобы эта сумма была строго меньше заданного значения N."
      ],
      "id": "H2nwEGGbbrU5"
    },
    {
      "cell_type": "code",
      "execution_count": null,
      "metadata": {
        "colab": {
          "base_uri": "https://localhost:8080/"
        },
        "id": "YlsLeQdMbrU5",
        "outputId": "fc098baa-b317-4121-df5b-4744a5be6b01"
      },
      "outputs": [
        {
          "output_type": "stream",
          "name": "stdout",
          "text": [
            "Введите целое число: 1000\n",
            "990\n"
          ]
        }
      ],
      "source": [
        "N = int(input(\"Введите целое число: \"))\n",
        "i = 0\n",
        "n = 0\n",
        "for n in range(N):\n",
        "    i = i + n\n",
        "    if i >= N:\n",
        "        print(i - n)\n",
        "        break\n",
        "\n"
      ],
      "id": "YlsLeQdMbrU5"
    },
    {
      "cell_type": "markdown",
      "metadata": {
        "id": "3sElNc4ybrU6"
      },
      "source": [
        "### Тесты:\n",
        "\n",
        "Входные данные:  100\n",
        "Выходные данные: 91\n",
        "\n",
        "Входные данные: 1000\n",
        "Выходные данные: 990\n",
        "\n",
        "Входные данные: 10\n",
        "Выходные данные: 6\n",
        "\n",
        "Входные данные: 3\n",
        "Выходные данные: 1\n",
        "\n",
        "Входные данные: 20\n",
        "Выходные данные: 15"
      ],
      "id": "3sElNc4ybrU6"
    },
    {
      "cell_type": "markdown",
      "metadata": {
        "id": "ZMr6HqSkbrU6"
      },
      "source": [
        "## Массивы"
      ],
      "id": "ZMr6HqSkbrU6"
    },
    {
      "cell_type": "markdown",
      "metadata": {
        "id": "vjLNafy4brU6"
      },
      "source": [
        "### Задача 6. Главная диагональ матрицы\n",
        "Вам дается целое число n. Выведите матрицу размера nxn, в которой все элементы 0, кроме главной диагонали, на которой стоят 1. (Главная диагональ квадратной матрицы состоит из элементов с индексами i и j, в которых i=j. То есть это элементы с индексами 00, 11, 22 и т.д.)"
      ],
      "id": "vjLNafy4brU6"
    },
    {
      "cell_type": "code",
      "execution_count": null,
      "metadata": {
        "colab": {
          "base_uri": "https://localhost:8080/"
        },
        "id": "AtrFRsTmbrU6",
        "outputId": "6c7a3613-e612-48d0-e9d9-cdbb79f97341"
      },
      "outputs": [
        {
          "output_type": "stream",
          "name": "stdout",
          "text": [
            "Введите целое число5\n",
            "[1, 0, 0, 0, 0]\n",
            "[0, 1, 0, 0, 0]\n",
            "[0, 0, 1, 0, 0]\n",
            "[0, 0, 0, 1, 0]\n",
            "[0, 0, 0, 0, 1]\n"
          ]
        }
      ],
      "source": [
        "n = int(input(\"Введите целое число\"))\n",
        "matrix = []\n",
        "\n",
        "# Ваш код\n",
        "for i in range(n):\n",
        "    matrix.append([])\n",
        "    for j in range(n):\n",
        "        matrix[i].append(0)\n",
        "\n",
        "for i in range(n):\n",
        "    for j in range(n):\n",
        "        if i == j:\n",
        "            matrix[i][j] = 1\n",
        "        else:\n",
        "            matrix[i][j] = 0\n",
        "\n",
        "\n",
        "#ниже этот код для проверки (не стирать)\n",
        "for i in range(n):\n",
        "    print(matrix[i])\n",
        "\n"
      ],
      "id": "AtrFRsTmbrU6"
    },
    {
      "cell_type": "markdown",
      "metadata": {
        "id": "Rep2I6BubrU6"
      },
      "source": [
        "### Тесты:\n",
        "\n",
        "Входные данные: 5  \n",
        "Выходные данные:  \n",
        "[1, 0, 0, 0, 0]  \n",
        "[0, 1, 0, 0, 0]  \n",
        "[0, 0, 1, 0, 0]  \n",
        "[0, 0, 0, 1, 0]  \n",
        "[0, 0, 0, 0, 1]\n",
        "\n",
        "Входные данные: 4  \n",
        "Выходные данные:\n",
        "[1, 0, 0, 0]  \n",
        "[0, 1, 0, 0]  \n",
        "[0, 0, 1, 0]      \n",
        "[0, 0, 0, 1]\n",
        "\n",
        "Входные данные: 1  \n",
        "Выходные данные:  \n",
        "[1]\n",
        "\n",
        "Входные данные: 2  \n",
        "Выходные данные:  \n",
        "[1, 0]  \n",
        "[0, 1]  \n"
      ],
      "id": "Rep2I6BubrU6"
    },
    {
      "cell_type": "markdown",
      "metadata": {
        "id": "h_4pMLnsbrU6"
      },
      "source": [
        "## Словари и множества"
      ],
      "id": "h_4pMLnsbrU6"
    },
    {
      "cell_type": "markdown",
      "metadata": {
        "id": "24zcO9rgbrU6"
      },
      "source": [
        "### Задача 5. Города и страны\n",
        "\n",
        "В словаре countries каждый ключ — это название страны, а его значения - список из 3 крупнейших городов, которые в этой стране расположены. Ваша задача написать программу, которая на вход принимает название города и сохраняет ее в переменную city, а на выходе выдает информацию о том, в какой стране находится указанный город. Если страна успешно найдена, выведите сообщение: \"INFO: <указанный_город> is a city in <найденная_страна>\". В противном случае: \"ERROR: Country for <указанный_город> is not found\""
      ],
      "id": "24zcO9rgbrU6"
    },
    {
      "cell_type": "code",
      "execution_count": null,
      "metadata": {
        "colab": {
          "base_uri": "https://localhost:8080/"
        },
        "id": "MmFhahCMbrU7",
        "outputId": "e13ef827-09b2-431b-dc8f-8f17e98ec754"
      },
      "outputs": [
        {
          "output_type": "stream",
          "name": "stdout",
          "text": [
            "Введите название города: Birmingham\n",
            "INFO: Birmingham is a city in England\n"
          ]
        }
      ],
      "source": [
        "countries = {\n",
        "    'Sweden': ['Stockholm', 'Goteborg', 'Malmo'],\n",
        "    'Norway': ['Oslo', 'Bergen', 'Trondheim'],\n",
        "    'England': ['London', 'Birmingham', 'Manchester'],\n",
        "    'Germany': ['Berlin', 'Hamburg', 'Munich'],\n",
        "    'France': ['Paris', 'Marseille', 'Toulouse']\n",
        "}\n",
        "city = input(\"Введите название города: \")\n",
        "\n",
        "\n",
        "if city in countries['Sweden']:\n",
        "    print(f\"INFO: {city} is a city in Sweden\")\n",
        "\n",
        "\n",
        "if city in countries['Norway']:\n",
        "    print(f\"INFO: {city} is a city in Norway\")\n",
        "\n",
        "elif city in countries['England']:\n",
        "    print(f\"INFO: {city} is a city in England\")\n",
        "\n",
        "elif city in countries['Germany']:\n",
        "    print(f\"INFO: {city} is a city in Germany\")\n",
        "\n",
        "elif city in countries['France']:\n",
        "    print(f\"INFO: {city} is a city in France\")\n",
        "\n",
        "else:\n",
        "    print(f\"ERROR: Country for {city} is not found\")"
      ],
      "id": "MmFhahCMbrU7"
    },
    {
      "cell_type": "markdown",
      "metadata": {
        "id": "Pm7hO5YmbrU7"
      },
      "source": [
        "\n",
        "\n",
        "\n",
        "\n",
        "\n",
        "\n",
        "\n",
        "### Тесты:\n",
        "\n",
        "Входные данные: Birmingham    \n",
        "Выходные данные: INFO: Birmingham is a city in England\n",
        "\n",
        "Входные данные: Moscow  \n",
        "Выходные данные: ERROR: Country for Moscow is not found\n",
        "\n",
        "Входные данные: England  \n",
        "Выходные данные: ERROR: Country for England is not found\n",
        "\n",
        "Входные данные: trondheim  \n",
        "Выходные данные: ERROR: Country for trondheim is not found\n",
        "\n",
        "Входные данные: Paris  \n",
        "Выходные данные: INFO: Paris is a city in France"
      ],
      "id": "Pm7hO5YmbrU7"
    },
    {
      "cell_type": "markdown",
      "metadata": {
        "id": "mk9zXWeJbrU7"
      },
      "source": [
        "## Алгоритмы со строками"
      ],
      "id": "mk9zXWeJbrU7"
    },
    {
      "cell_type": "markdown",
      "metadata": {
        "id": "daFESEdNbrU7"
      },
      "source": [
        "### Задача 1. Проверка на палиндром 1\n",
        "\n",
        "Проверьте, является ли введенное число палиндромом. Число может быть как целочисленным, так и в виде десятичной дроби.\n",
        "\n"
      ],
      "id": "daFESEdNbrU7"
    },
    {
      "cell_type": "code",
      "execution_count": null,
      "metadata": {
        "colab": {
          "base_uri": "https://localhost:8080/"
        },
        "id": "mV9NeaMhbrU7",
        "outputId": "9b852b6d-7346-4ff8-c19a-4933b0b42c6e"
      },
      "outputs": [
        {
          "output_type": "stream",
          "name": "stdout",
          "text": [
            "1233.21\n",
            "True\n"
          ]
        }
      ],
      "source": [
        "num = input()\n",
        "first_part = []\n",
        "second_part = []\n",
        "replace_num = num.replace('.', '')\n",
        "# Ваш код\n",
        "replace_num_len = len(str(replace_num))\n",
        "if replace_num_len % 2 == 0:\n",
        "  for i in range(int(replace_num_len / 2)):\n",
        "    first_part.append(replace_num[i])\n",
        "  for j in range(int(replace_num_len / 2), replace_num_len):\n",
        "    second_part.append(replace_num[j])\n",
        "else:\n",
        "  for i in range(int(replace_num_len / 2)):\n",
        "    first_part.append(replace_num[i])\n",
        "  for j in range(int(replace_num_len / 2) + 1, replace_num_len):\n",
        "    second_part.append(replace_num[j])\n",
        "\n",
        "if first_part == list(reversed(second_part)):\n",
        "  print(True)\n",
        "else:\n",
        "  print(False)\n",
        "# replace_num[i]"
      ],
      "id": "mV9NeaMhbrU7"
    },
    {
      "cell_type": "markdown",
      "metadata": {
        "id": "GqAkFRK-brU7"
      },
      "source": [
        "### Тесты:\n",
        "\n",
        "Входные данные: 101  \n",
        "Выходные данные: True\n",
        "\n",
        "Входные данные: 12490  \n",
        "Выходные данные: False\n",
        "\n",
        "Входные данные: 123.321  \n",
        "Выходные данные: True\n",
        "\n",
        "Входные данные: 1233.21  \n",
        "Выходные данные: True\n",
        "\n",
        "Входные данные: 123.567  \n",
        "Выходные данные: False"
      ],
      "id": "GqAkFRK-brU7"
    },
    {
      "cell_type": "markdown",
      "metadata": {
        "id": "0MbrVX8jbrU8"
      },
      "source": [
        "# 3*"
      ],
      "id": "0MbrVX8jbrU8"
    },
    {
      "cell_type": "markdown",
      "metadata": {
        "id": "9etG5kc1brU8"
      },
      "source": [
        "## Строки"
      ],
      "id": "9etG5kc1brU8"
    },
    {
      "cell_type": "markdown",
      "metadata": {
        "id": "y3WcKhLZbrU9"
      },
      "source": [
        "### Задача 11. Акула\n",
        "\n",
        "Ваш друг пригласил вас на плавучий остров на отдалении в 1 километр от побережья. На острове располагается огромной высоты горка для прыжков в воду, к ней ведет извилистая тернистая дорожка. Вы взбираетесь наверх, толчок, скольжение, взлет!\n",
        "\n",
        "Во время полета с горки вы замечаете исчезающий в глубине силуэт акулы… О, нет!\n",
        "\n",
        "В рамках задачи вам, по большому счету, нужно выяснить, кто доплывет до берега быстрее: вы или акула?\n",
        "\n",
        "Не забывайте, что акуле нужно преодолеть бОльшее расстояние.\n",
        "\n",
        "Если получается убежать от акулы, то нужно вывести – \"Спасен от акулы!\", иначе – \"Акула съела пловца!\".\n",
        "\n",
        "Для удобства считаем, что события происходят в одномерном пространстве. На вход подаются 5 значений:\n",
        "\n",
        "sharkDistance – расстояние до акулы;  \n",
        "sharkSpeed – скорость акулы;  \n",
        "pontoonDistance – расстояние, которое нужно проплыть обратно до острова;  \n",
        "yourSpeed – ваша скорость;  \n",
        "dolphin – логическая переменная, если \"true\", то можно уменьшить скорость акулы вдвое, так как дельфин будет её отвлекать."
      ],
      "id": "y3WcKhLZbrU9"
    },
    {
      "cell_type": "code",
      "execution_count": null,
      "metadata": {
        "colab": {
          "base_uri": "https://localhost:8080/"
        },
        "id": "phl3t1DXbrU9",
        "outputId": "e81fddf2-d6de-4361-d7e2-8a535e9c2703"
      },
      "outputs": [
        {
          "output_type": "stream",
          "name": "stdout",
          "text": [
            "Введите расстояние до акулы: 6\n",
            "Введите скорость акулы: 3\n",
            "Введите расстояние, которе нужно проплыть обратно до острова: 4\n",
            "Введите вашу скорость: 1\n",
            "Введите True или False, в засисимоти от того, будет дельфин отвлекать акулк или нет :): False\n",
            "Акула съела пловца!\n"
          ]
        }
      ],
      "source": [
        "sharkDistance = int(input(\"Введите расстояние до акулы: \"))\n",
        "sharkSpeed = int(input(\"Введите скорость акулы: \"))\n",
        "pontoonDistance = int(input(\"Введите расстояние, которе нужно проплыть обратно до острова: \"))\n",
        "yourSpeed = int(input(\"Введите вашу скорость: \"))\n",
        "dolphin = input(\"Введите True или False, в засисимоти от того, будет дельфин отвлекать акулк или нет :): \")\n",
        "\n",
        "y_time = pontoonDistance / yourSpeed\n",
        "\n",
        "if dolphin == 'True':\n",
        "    s_time = (sharkDistance + pontoonDistance) / (sharkSpeed/2)\n",
        "else:\n",
        "    s_time = (sharkDistance + pontoonDistance) / sharkSpeed\n",
        "\n",
        "if y_time < s_time:\n",
        "    print(\"Спасен от акулы!\")\n",
        "else:\n",
        "    print(\"Акула съела пловца!\")"
      ],
      "id": "phl3t1DXbrU9"
    },
    {
      "cell_type": "markdown",
      "metadata": {
        "id": "SkCw8rszbrU9"
      },
      "source": [
        "# Тесты:\n",
        "\n",
        "Входные данные:  \n",
        "5  \n",
        "1  \n",
        "2  \n",
        "2  \n",
        "true  \n",
        "Выходные данные: Спасен от акулы!\n",
        "\n",
        "Входные данные:  \n",
        "5  \n",
        "7  \n",
        "2  \n",
        "1  \n",
        "false  \n",
        "Выходные данные: Акула съела пловца!\n",
        "\n",
        "Входные данные:  \n",
        "6  \n",
        "3  \n",
        "4  \n",
        "1  \n",
        "false  \n",
        "Выходные данные: Акула съела пловца!\n",
        "\n",
        "Входные данные:  \n",
        "6  \n",
        "3  \n",
        "4  \n",
        "1  \n",
        "true  \n",
        "Выходные данные: Спасен от акулы!"
      ],
      "id": "SkCw8rszbrU9"
    },
    {
      "cell_type": "markdown",
      "metadata": {
        "id": "OQde1VYFbrU-"
      },
      "source": [
        "## Массивы"
      ],
      "id": "OQde1VYFbrU-"
    },
    {
      "cell_type": "markdown",
      "metadata": {
        "id": "1Oc3C4UubrU-"
      },
      "source": [
        "### Задача 11. Обратная диагональ матрицы\n",
        "\n",
        "Мы решали задание с заполнением главной диагонали, а теперь нам предстоит сделать аналогичную вещь для обратной (побочной) диагонали.\n",
        "\n",
        "Выведите матрицу размера nхn с такими элементами: все значения, стоящие на обратной (побочной) диагонали, равны 1, остальные - 0. (Побочная диагональ квадратной матрицы размера nхn состоит из элементов с индексами ij, в которых i+j=n-1. То есть в данном случае это элементы с индексами 04, 13, 22, 31, 40.)"
      ],
      "id": "1Oc3C4UubrU-"
    },
    {
      "cell_type": "code",
      "execution_count": null,
      "metadata": {
        "colab": {
          "base_uri": "https://localhost:8080/"
        },
        "id": "eDAQ4VztbrU-",
        "outputId": "3064c51f-7725-4290-ff73-fb4bc6eed536"
      },
      "outputs": [
        {
          "output_type": "stream",
          "name": "stdout",
          "text": [
            "Введите целое число6\n",
            "[0, 0, 0, 0, 0, 1]\n",
            "[0, 0, 0, 0, 1, 0]\n",
            "[0, 0, 0, 1, 0, 0]\n",
            "[0, 0, 1, 0, 0, 0]\n",
            "[0, 1, 0, 0, 0, 0]\n",
            "[1, 0, 0, 0, 0, 0]\n"
          ]
        }
      ],
      "source": [
        "n = int(input(\"Введите целое число\"))\n",
        "matrix = []\n",
        "\n",
        "# Ваш код\n",
        "for i in range(n):\n",
        "    matrix.append([])\n",
        "    for j in range(n):\n",
        "        matrix[i].append(0)\n",
        "\n",
        "for i in range(n):\n",
        "    for j in range(n):\n",
        "        if i + j == n-1:\n",
        "            matrix[i][j] = 1\n",
        "        else:\n",
        "            matrix[i][j] = 0\n",
        "\n",
        "\n",
        "#ниже этот код для проверки (не стирать)\n",
        "for i in range(n):\n",
        "    print(matrix[i])"
      ],
      "id": "eDAQ4VztbrU-"
    },
    {
      "cell_type": "markdown",
      "metadata": {
        "id": "MTPvbwykbrU-"
      },
      "source": [
        "### Тесты:\n",
        "\n",
        "Входные данные: 5  \n",
        "Выходные данные:  \n",
        "[0, 0, 0, 0, 1]  \n",
        "[0, 0, 0, 1, 0]  \n",
        "[0, 0, 1, 0, 0]  \n",
        "[0, 1, 0, 0, 0]  \n",
        "[1, 0, 0, 0, 0]  \n",
        "\n",
        "Входные данные: 1  \n",
        "Выходные данные:  \n",
        "[1]\n",
        "\n",
        "Входные данные: 2\n",
        "Выходные данные:  \n",
        "[0, 1]  \n",
        "[1, 0]  \n",
        "\n",
        "Входные данные: 3  \n",
        "Выходные данные:\n",
        "[0, 0, 1]  \n",
        "[0, 1, 0]  \n",
        "[1, 0, 0]  \n"
      ],
      "id": "MTPvbwykbrU-"
    },
    {
      "cell_type": "code",
      "execution_count": null,
      "metadata": {
        "id": "NWjYAOIxbrU-"
      },
      "outputs": [],
      "source": [],
      "id": "NWjYAOIxbrU-"
    }
  ],
  "metadata": {
    "kernelspec": {
      "display_name": "Python 3",
      "language": "python",
      "name": "python3"
    },
    "language_info": {
      "codemirror_mode": {
        "name": "ipython",
        "version": 3
      },
      "file_extension": ".py",
      "mimetype": "text/x-python",
      "name": "python",
      "nbconvert_exporter": "python",
      "pygments_lexer": "ipython3",
      "version": "3.7.10"
    },
    "colab": {
      "provenance": []
    }
  },
  "nbformat": 4,
  "nbformat_minor": 5
}