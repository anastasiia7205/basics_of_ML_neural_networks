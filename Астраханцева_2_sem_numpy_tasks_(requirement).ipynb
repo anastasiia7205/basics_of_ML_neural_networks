{
  "cells": [
    {
      "cell_type": "markdown",
      "metadata": {
        "id": "XBhw_5bwkIfb"
      },
      "source": [
        "# Семинар: знакомство с NumPy. Задачи\n",
        "[(**Num**eric **Py**thon)](http://www.numpy.org/)\n"
      ]
    },
    {
      "cell_type": "markdown",
      "metadata": {
        "id": "irryBJyMkIfd"
      },
      "source": [
        "### Дополнительные материалы\n",
        "\n",
        "Для самых любознательных и тех, кто хочет порешать задачи, есть сборник \"100 заданий по Numpy\": https://www.machinelearningplus.com/python/101-numpy-exercises-python/\n",
        "\n",
        "Для тех, кому нужно руководство по матричным операциям в Numpy: https://www.programiz.com/python-programming/matrix"
      ]
    },
    {
      "cell_type": "markdown",
      "metadata": {
        "id": "wmv3lthIkIfd"
      },
      "source": [
        "**numpy reference:** https://numpy.org/doc/stable/reference/index.html"
      ]
    },
    {
      "cell_type": "code",
      "execution_count": null,
      "metadata": {
        "id": "2Fa3biNjkIfd"
      },
      "outputs": [],
      "source": [
        "import numpy as np"
      ]
    },
    {
      "cell_type": "markdown",
      "metadata": {
        "id": "pPNatCwLkIfe"
      },
      "source": [
        "## Задания для самостоятельного решения\n",
        "\n",
        "#### Часть 1"
      ]
    },
    {
      "cell_type": "markdown",
      "metadata": {
        "id": "9jFkZhUSkIfe"
      },
      "source": [
        "1. Развернуть одномерный массив (сделать так, чтобы его элементы шли в обратном порядке).\n",
        "2. Найти максимальный нечетный элемент в массиве.\n",
        "3. Замените все нечетные элементы массива на ваше любимое число.\n",
        "4. Создайте массив первых n нечетных чисел, записанных в порядке убывания. Например, если `n=5`, то ответом будет `array([9, 7, 5, 3, 1])`. *Функции, которые могут пригодиться при решении: `.arange()`*\n",
        "5. Вычислите самое близкое и самое дальнее числа к данному в рассматриваемом массиве чисел. Например, если на вход поступают массив `array([0, 1, 2, 3, 4])` и число 1.33, то ответом будет `(1, 4)`. _Функции, которые могут пригодиться при решении: `.abs()`, `.argmax()`, `.argmin()`_"
      ]
    },
    {
      "cell_type": "markdown",
      "source": [
        "1. Развернуть одномерный массив (сделать так, чтобы его элементы шли в обратном порядке)."
      ],
      "metadata": {
        "id": "C23jVOnzjT6e"
      }
    },
    {
      "cell_type": "code",
      "execution_count": null,
      "metadata": {
        "colab": {
          "base_uri": "https://localhost:8080/"
        },
        "id": "T9e_gDYWkIfe",
        "outputId": "7aaf30c0-41d7-4dd7-e93f-7cca70e2d4ec"
      },
      "outputs": [
        {
          "output_type": "execute_result",
          "data": {
            "text/plain": [
              "array([0, 1, 3, 2, 1])"
            ]
          },
          "metadata": {},
          "execution_count": 193
        }
      ],
      "source": [
        "#Задача 1.1\n",
        "#код:\n",
        "a = np.array([1, 2, 3, 1, 0])\n",
        "a[::-1]"
      ]
    },
    {
      "cell_type": "markdown",
      "source": [
        "2. Найти максимальный нечетный элемент в массиве."
      ],
      "metadata": {
        "id": "xv4H7_ORjXQ1"
      }
    },
    {
      "cell_type": "code",
      "execution_count": null,
      "metadata": {
        "colab": {
          "base_uri": "https://localhost:8080/"
        },
        "id": "64WmJKlDkIff",
        "outputId": "0588e808-d079-4804-9641-5ee81db67728"
      },
      "outputs": [
        {
          "output_type": "stream",
          "name": "stdout",
          "text": [
            "[1 2 3 1 0]\n"
          ]
        },
        {
          "output_type": "execute_result",
          "data": {
            "text/plain": [
              "3"
            ]
          },
          "metadata": {},
          "execution_count": 195
        }
      ],
      "source": [
        "#Задача 1.2\n",
        "#код:\n",
        "print(a)\n",
        "max(a[np.where(~(a % 2 == 0))]) # == max(a[np.where((a % 2 != 0))])\n"
      ]
    },
    {
      "cell_type": "markdown",
      "source": [
        "3. Замените все нечетные элементы массива на ваше любимое число."
      ],
      "metadata": {
        "id": "sdK8VKkgjaql"
      }
    },
    {
      "cell_type": "code",
      "execution_count": null,
      "metadata": {
        "colab": {
          "base_uri": "https://localhost:8080/"
        },
        "id": "tzpWqb1okIff",
        "outputId": "3df2dd38-cb7e-481c-891b-168453805181"
      },
      "outputs": [
        {
          "output_type": "execute_result",
          "data": {
            "text/plain": [
              "array([8, 2, 8, 8, 0])"
            ]
          },
          "metadata": {},
          "execution_count": 9
        }
      ],
      "source": [
        "#Задача 1.3\n",
        "#код:\n",
        "\n",
        "np.where(a % 2 != 0, 8, a)\n"
      ]
    },
    {
      "cell_type": "markdown",
      "source": [
        "4. Создайте массив первых n нечетных чисел, записанных в порядке убывания. Например, если `n=5`, то ответом будет `array([9, 7, 5, 3, 1])`. *Функции, которые могут пригодиться при решении: `.arange()`*"
      ],
      "metadata": {
        "id": "8WWSw2hbjfp2"
      }
    },
    {
      "cell_type": "code",
      "execution_count": null,
      "metadata": {
        "colab": {
          "base_uri": "https://localhost:8080/"
        },
        "id": "fRkm3SNKkIff",
        "outputId": "de9b127a-bc4b-4d73-d719-6e8f6c36d298"
      },
      "outputs": [
        {
          "output_type": "execute_result",
          "data": {
            "text/plain": [
              "array([11,  9,  7,  5,  3,  1])"
            ]
          },
          "metadata": {},
          "execution_count": 199
        }
      ],
      "source": [
        "#Задача 1.4\n",
        "#код:\n",
        "n = 6\n",
        "m = np.arange(1, n*2, 2)\n",
        "m[::-1]"
      ]
    },
    {
      "cell_type": "markdown",
      "source": [
        "5. Вычислите самое близкое и самое дальнее числа к данному в рассматриваемом массиве чисел. Например, если на вход поступают массив `array([0, 1, 2, 3, 4])` и число 1.33, то ответом будет `(1, 4)`. _Функции, которые могут пригодиться при решении: `.abs()`, `.argmax()`, `.argmin()`_"
      ],
      "metadata": {
        "id": "5HY8UidytLUB"
      }
    },
    {
      "cell_type": "code",
      "execution_count": null,
      "metadata": {
        "colab": {
          "base_uri": "https://localhost:8080/"
        },
        "id": "allnkay0kIff",
        "outputId": "e37409ca-7c71-4ebb-b844-58f993b81017"
      },
      "outputs": [
        {
          "output_type": "stream",
          "name": "stdout",
          "text": [
            "1.33\n",
            "1 4\n"
          ]
        }
      ],
      "source": [
        "#Задача 1.5\n",
        "#код:\n",
        "a = np.array([0, 1, 2, 3, 4])\n",
        "n = float(input())\n",
        "np.round(n)\n",
        "min_close = max(a[np.where((a <= np.round(n)))])\n",
        "print(min_close, a.argmax())"
      ]
    },
    {
      "cell_type": "markdown",
      "metadata": {
        "id": "2Ruw2CeOkIff"
      },
      "source": [
        "### Задания для самостоятельного решения\n",
        "\n",
        "#### Часть 2. В этом разделе использовать только методы numpy. Не использовать циклы!  \n",
        "#### Каждая задача в этом разделе решается одной-двумя строками кода. Нужно просто подумать или найти подходящий метод в numpy\n",
        "\n",
        "Везде, где встречаются массивы или матрицы, подразумевается, что это `numpy.array`"
      ]
    },
    {
      "cell_type": "markdown",
      "metadata": {
        "id": "0T2IF41MkIff"
      },
      "source": [
        "#### Задача 2.1\n",
        "\n",
        "Создайте одномерный массив чисел от 0 до 8.\n",
        "\n",
        "Сделайте это двумя способами: с помощью метода `arange` из numpy и с помощью преобразования списка (list) в numpy array"
      ]
    },
    {
      "cell_type": "code",
      "execution_count": null,
      "metadata": {
        "colab": {
          "base_uri": "https://localhost:8080/"
        },
        "id": "Dj81FW81kIfg",
        "outputId": "e93cd3b5-53e1-4611-ef45-3e1c5e5e51d9"
      },
      "outputs": [
        {
          "output_type": "stream",
          "name": "stdout",
          "text": [
            "[0 1 2 3 4 5 6 7 8]\n",
            "[0 1 2 3 4 5 6 7 8]\n",
            "[0 1 2 3 4 5 6 7 8]\n"
          ]
        }
      ],
      "source": [
        "#Код:\n",
        "a = np.arange(0, 9)\n",
        "b = np.array(list(range(0, 9)))\n",
        "c = np.array([0, 1, 2, 3,4, 5, 6, 7, 8])\n",
        "print(a)\n",
        "print(np.array(b))\n",
        "print(c)"
      ]
    },
    {
      "cell_type": "markdown",
      "metadata": {
        "id": "p-o-d6FykIfg"
      },
      "source": [
        "#### Тесты:\n",
        "\n",
        "Выходные данные: `array([0, 1, 2, 3, 4, 5, 6, 7, 8])`\n"
      ]
    },
    {
      "cell_type": "markdown",
      "metadata": {
        "id": "dC2t8fHvkIfg"
      },
      "source": [
        "#### Задача 2.2\n",
        "\n",
        "Вам дан numpy array под названием ```test_array```. Выведите положительные элементы этого массива\n",
        "\n",
        "*Подсказка:* здесь можно также использовать булевы массивы в качестве булевой маски."
      ]
    },
    {
      "cell_type": "code",
      "execution_count": null,
      "metadata": {
        "colab": {
          "base_uri": "https://localhost:8080/"
        },
        "id": "w-yzs8cZkIfg",
        "outputId": "316c4db7-e789-403b-d7ba-5ee321de5e38"
      },
      "outputs": [
        {
          "output_type": "execute_result",
          "data": {
            "text/plain": [
              "array([5, 7, 6, 8])"
            ]
          },
          "metadata": {},
          "execution_count": 210
        }
      ],
      "source": [
        "#Код:\n",
        "test_array = np.array([ 0, -1, 5, -3, 7, -1, 6, -1, 8, -1])\n",
        "test_array[test_array  > 0]"
      ]
    },
    {
      "cell_type": "markdown",
      "metadata": {
        "id": "slX2kBZzkIfg"
      },
      "source": [
        "#### Тесты:  \n",
        "Входные данные:   \n",
        "`test_array = np.array([ 0, -1,  5, -3,  7, -1,  6, -1,  8, -1])`  \n",
        "Выходные данные:   \n",
        "`array([5, 7, 6, 8])`"
      ]
    },
    {
      "cell_type": "markdown",
      "metadata": {
        "id": "LiOSr6xmkIfg"
      },
      "source": [
        "#### Задача 2.3\n",
        "\n",
        "Замените отрицательные элементы из массива ```test_array``` на 0. Подсказка: вам пригодится функция ```np.where```"
      ]
    },
    {
      "cell_type": "code",
      "execution_count": null,
      "metadata": {
        "colab": {
          "base_uri": "https://localhost:8080/"
        },
        "id": "u4tsJ6YnkIfg",
        "outputId": "07978197-ba98-4d78-d332-a5b5d59dea5d"
      },
      "outputs": [
        {
          "output_type": "execute_result",
          "data": {
            "text/plain": [
              "array([0, 0, 5, 0, 7, 0, 6, 0, 8, 0])"
            ]
          },
          "metadata": {},
          "execution_count": 211
        }
      ],
      "source": [
        "#Код:\n",
        "test_array = np.array([ 0, -1, 5, -3, 7, -1, 6, -1, 8, -1])\n",
        "np.where(test_array < 0, 0, test_array)\n"
      ]
    },
    {
      "cell_type": "markdown",
      "metadata": {
        "id": "6ihvxDBpkIfg"
      },
      "source": [
        "#### Тесты:  \n",
        "Входные данные:   \n",
        "`test_array = np.array([ 0, -1,  5, -3,  7, -1,  6, -1,  8, -1])`  \n",
        "Выходные данные:   \n",
        "`array([0, 0, 5, 0, 7, 0, 6, 0, 8, 0])`"
      ]
    },
    {
      "cell_type": "markdown",
      "metadata": {
        "id": "_uLS4TPTkIfh"
      },
      "source": [
        "#### Задача 2.4\n",
        "\n",
        "Вам дан массив из 10 чисел. С помощью одной функции в numpy найдите позицию максимального элемента в заданном массиве"
      ]
    },
    {
      "cell_type": "code",
      "execution_count": null,
      "metadata": {
        "colab": {
          "base_uri": "https://localhost:8080/"
        },
        "id": "ufuhnPRFkIfh",
        "outputId": "e8c4b726-81de-445c-dc35-075b180865b7"
      },
      "outputs": [
        {
          "output_type": "execute_result",
          "data": {
            "text/plain": [
              "7"
            ]
          },
          "metadata": {},
          "execution_count": 212
        }
      ],
      "source": [
        "#Код:\n",
        "array = np.array([6, 8, 4, 2, 11, -3, 7, 22, -20, -30])\n",
        "np.where(array == max(array))[0][0] # 1-ый вариант\n",
        "np.argmax(array) # 2-ой вариант\n"
      ]
    },
    {
      "cell_type": "markdown",
      "metadata": {
        "id": "x-V_m3aIkIfh"
      },
      "source": [
        "#### Тесты:  \n",
        "Входные данные:   \n",
        "`array = np.array([6, 8, 4, 2, 11, -3, 7, 22, -20, -30])`  \n",
        "Выходные данные:   \n",
        "`7`"
      ]
    },
    {
      "cell_type": "markdown",
      "metadata": {
        "id": "ZV0aXkbMkIfh"
      },
      "source": [
        "#### Задача 2.5\n",
        "\n",
        "Вам дан словарь, в котором подсчитаны частоты женских имен в выборке из 26 новорожденных девочек."
      ]
    },
    {
      "cell_type": "code",
      "execution_count": null,
      "metadata": {
        "colab": {
          "base_uri": "https://localhost:8080/"
        },
        "id": "nwB342kikIfh",
        "outputId": "ad737cf9-b288-4cfe-890b-e4e3b0a156c6"
      },
      "outputs": [
        {
          "output_type": "stream",
          "name": "stdout",
          "text": [
            "[0.30769231 0.19230769 0.07692308 0.03846154 0.38461538] 1.0\n"
          ]
        }
      ],
      "source": [
        "names = dict()\n",
        "names['Катя'] = 8\n",
        "names[\"Maша\"] = 5\n",
        "names[\"Вероника\"] = 2\n",
        "names[\"Ярослава\"] = 1\n",
        "names[\"Александра\"] = 10\n",
        "\n",
        "dict_value = names.values()\n",
        "dict_value_array = np.array(list(dict_value))\n",
        "result = dict_value_array/sum(dict_value_array)\n",
        "print(result, sum(result))"
      ]
    },
    {
      "cell_type": "markdown",
      "metadata": {
        "id": "hAyU9D7FkIfh"
      },
      "source": [
        "Посчитайте процентные доли имен с помощью нормирования вектора значений.\n",
        "\n",
        "*Подсказка:* просто возьмите этот вектор значений и поделите его на сумму элементов в нем"
      ]
    },
    {
      "cell_type": "markdown",
      "metadata": {
        "id": "lkGXRG9HkIfh"
      },
      "source": [
        "#### Тесты:\n",
        "\n",
        "Выходные данные:  \n",
        "`array([0.30769231, 0.19230769, 0.07692308, 0.03846154, 0.38461538])`\n"
      ]
    },
    {
      "cell_type": "markdown",
      "metadata": {
        "id": "L73ZAfgGkIfh"
      },
      "source": [
        "Примечание: мы только что произвели операцию **нормирования вектора** (теперь суммa его элементов 1), а получившиеся элементы можно интерпретировать как **вероятности** (в примере выше это веростности того, что случайно взятая новорожденная девочка будет иметь какое-то конкретное имя)"
      ]
    },
    {
      "cell_type": "markdown",
      "metadata": {
        "id": "nWhwkv-OkIfh"
      },
      "source": [
        "#### Задача 2.6\n",
        "\n",
        "Вам дан массив ```arr```. Выведите все его элементы, которые строго больше 5, и строго меньше 9\n",
        "\n",
        "*Подсказка:* здесь можно использовать булевы массивы в качестве булевой маски."
      ]
    },
    {
      "cell_type": "code",
      "execution_count": null,
      "metadata": {
        "id": "dtTYCheSkIfh",
        "colab": {
          "base_uri": "https://localhost:8080/"
        },
        "outputId": "fe94a9fd-7698-4fbe-e8f3-0daea4d7edc6"
      },
      "outputs": [
        {
          "output_type": "execute_result",
          "data": {
            "text/plain": [
              "array([7, 7, 8])"
            ]
          },
          "metadata": {},
          "execution_count": 57
        }
      ],
      "source": [
        "#Код:\n",
        "arr = np.array([7, 2, 10, 2, 7, 4, 9, 4, 9, 8])\n",
        "arr = arr[arr > 5]\n",
        "arr = arr[arr < 9]\n",
        "arr"
      ]
    },
    {
      "cell_type": "markdown",
      "metadata": {
        "id": "iiYpA7jvkIfi"
      },
      "source": [
        "#### Тесты:\n",
        "\n",
        "Входные данные:  \n",
        "`arr = np.array([7, 2, 10, 2, 7, 4, 9, 4, 9, 8])`  \n",
        "Выходные данные:     \n",
        "`array([7, 7, 8])`\n"
      ]
    },
    {
      "cell_type": "markdown",
      "metadata": {
        "id": "we5QfVlDkIfi"
      },
      "source": [
        "#### Двумерные массивы"
      ]
    },
    {
      "cell_type": "markdown",
      "metadata": {
        "id": "W6vSAGv5kIfi"
      },
      "source": [
        "#### Задача 2.7\n",
        "\n",
        "Создайте методом из numpy одномерный массив из 12 элементов от 0 до 11 и сделайте из него матрицу размером 3х4 (вам пригодится функция ```np.reshape```)"
      ]
    },
    {
      "cell_type": "code",
      "execution_count": null,
      "metadata": {
        "id": "KpPvgDyokIfi",
        "colab": {
          "base_uri": "https://localhost:8080/"
        },
        "outputId": "0d94ac33-4cc7-48a2-c8b4-73fe4c545ecc"
      },
      "outputs": [
        {
          "output_type": "execute_result",
          "data": {
            "text/plain": [
              "array([[ 0,  1,  2,  3],\n",
              "       [ 4,  5,  6,  7],\n",
              "       [ 8,  9, 10, 11]])"
            ]
          },
          "metadata": {},
          "execution_count": 67
        }
      ],
      "source": [
        "#Код:\n",
        "m = np.arange(0, 12)\n",
        "m.reshape(3,4)"
      ]
    },
    {
      "cell_type": "markdown",
      "metadata": {
        "id": "mikGEBSxkIfi"
      },
      "source": [
        "#### Задача 2.8\n",
        "\n",
        "Соедините вертикально и горизонтально две созданные матрицы a и b."
      ]
    },
    {
      "cell_type": "code",
      "execution_count": null,
      "metadata": {
        "id": "-TYPAjP4kIfi",
        "colab": {
          "base_uri": "https://localhost:8080/"
        },
        "outputId": "abecb28a-58c6-4e51-c524-c4eed571b839"
      },
      "outputs": [
        {
          "output_type": "stream",
          "name": "stdout",
          "text": [
            "[[0 1 2 3]\n",
            " [4 5 6 7]]\n",
            "\n",
            "[[1. 1. 1. 1.]\n",
            " [1. 1. 1. 1.]]\n",
            "\n",
            "[[0. 1. 2. 3. 1. 1. 1. 1.]\n",
            " [4. 5. 6. 7. 1. 1. 1. 1.]]\n",
            "\n",
            "[[0. 1. 2. 3.]\n",
            " [4. 5. 6. 7.]\n",
            " [1. 1. 1. 1.]\n",
            " [1. 1. 1. 1.]]\n"
          ]
        }
      ],
      "source": [
        "a = np.arange(8).reshape(2,4)\n",
        "b = np.ones(8).reshape(2,4)\n",
        "print(a)\n",
        "print()\n",
        "print(b)\n",
        "print()\n",
        "print(np.hstack((a, b)))\n",
        "print()\n",
        "print(np.vstack((a, b)))"
      ]
    },
    {
      "cell_type": "markdown",
      "metadata": {
        "id": "3CEjs9JRkIfi"
      },
      "source": [
        "#### Задача 2.9\n",
        "\n",
        "Сохраните в отдельную переменную второй столбец (столбец с индексом 1) из данного вам двумерного массива.\n",
        "\n",
        "Обратите внимение, что при вырезании столбца из матрицы, у вас получится одномерный numpy-array, а не двумерная матрица с одним столбцом!"
      ]
    },
    {
      "cell_type": "code",
      "execution_count": null,
      "metadata": {
        "id": "_aVt4lV9kIfi",
        "colab": {
          "base_uri": "https://localhost:8080/"
        },
        "outputId": "58982966-2c06-417b-af8a-d6bffea3ee7e"
      },
      "outputs": [
        {
          "output_type": "stream",
          "name": "stdout",
          "text": [
            "[[ 0  1  2  3]\n",
            " [ 4  5  6  7]\n",
            " [ 8  9 10 11]]\n",
            "\n"
          ]
        },
        {
          "output_type": "execute_result",
          "data": {
            "text/plain": [
              "array([1, 5, 9])"
            ]
          },
          "metadata": {},
          "execution_count": 82
        }
      ],
      "source": [
        "arr = np.arange(12).reshape(3,4)\n",
        "print(arr)\n",
        "print()\n",
        "arr[:, 1]"
      ]
    },
    {
      "cell_type": "markdown",
      "metadata": {
        "id": "HFE2FK-ckIfj"
      },
      "source": [
        "#### Задача 2.10\n",
        "\n",
        "Создайте массив из случайных чисел размера 3 на 4 (3 строки и 4 столбца) и сохраните его в переменную ```random_array```. Найдите среднее, медиану, стандартное отклонение созданной матрицы ```random_array``` по строкам и по столбцам. По одной строке на среднее, медиану, и стандартное отклонение для операций по строкам и по столбцам - всего 6 строк кода"
      ]
    },
    {
      "cell_type": "code",
      "execution_count": null,
      "metadata": {
        "id": "jtQ3ySY6kIfj",
        "colab": {
          "base_uri": "https://localhost:8080/"
        },
        "outputId": "d7740626-db16-4be6-c715-0f6fa65693b2"
      },
      "outputs": [
        {
          "output_type": "stream",
          "name": "stdout",
          "text": [
            "[[7. 6. 7. 7.]\n",
            " [7. 8. 2. 9.]\n",
            " [6. 6. 8. 0.]]\n",
            "Среднее значение: 6.083333333333333\n",
            "Медианное значение: 7.0\n",
            "Стандартное отклонение: 2.465033242958173\n",
            "Стандартное отклонение по стоблцам: [0.47140452 0.94280904 2.62466929 3.8586123 ]\n",
            "Стандартное отклонение по строкам: [0.4330127 2.6925824 3.       ]\n"
          ]
        }
      ],
      "source": [
        "#Код:\n",
        "random_array = np.round(np.random.rand(3, 4) * 10)\n",
        "print(random_array)\n",
        "print(f\"Среднее значение: {np.mean(random_array)}\")\n",
        "print(f\"Медианное значение: {np.median(random_array)}\")\n",
        "print(f\"Стандартное отклонение: {np.std(random_array)}\")\n",
        "print(f\"Стандартное отклонение по стоблцам: {np.std(random_array, axis = 0)}\")\n",
        "print(f\"Стандартное отклонение по строкам: {np.std(random_array, axis = 1)}\")\n",
        "\n",
        "\n"
      ]
    },
    {
      "cell_type": "markdown",
      "metadata": {
        "id": "DZWy9H72kIfj"
      },
      "source": [
        "#### Задача 2.11\n",
        "\n",
        "Найдите средние значения по строкам у созданной в задании 2.10 матрицы ```random_array```. Вычтите полученные средния значения из соответствующих строк начальной матрицы ```random_array```. Проверьте, что после вычитания средних среднее по каждой строке стало равно 0."
      ]
    },
    {
      "cell_type": "code",
      "execution_count": null,
      "metadata": {
        "id": "bYS1Yka1kIfj",
        "colab": {
          "base_uri": "https://localhost:8080/"
        },
        "outputId": "aac8c771-1571-4fca-adee-186af4c0f2da"
      },
      "outputs": [
        {
          "output_type": "stream",
          "name": "stdout",
          "text": [
            "Среднее значение по строкам: [2.75 5.25 1.25]\n",
            "\n",
            "Превратили среднее значение в вектор: \n",
            " [[2.75]\n",
            " [5.25]\n",
            " [1.25]]\n",
            "\n",
            "Исходная матрица: \n",
            " [[1. 3. 2. 5.]\n",
            " [8. 7. 3. 3.]\n",
            " [1. 2. 0. 2.]] \n",
            "\n",
            "Матрица, которая получилась при вычитании среднего по строке из каждого элемента в строке: \n",
            " [[-1.75  0.25 -0.75  2.25]\n",
            " [ 2.75  1.75 -2.25 -2.25]\n",
            " [-0.25  0.75 -1.25  0.75]]\n",
            "Тпеперь снова считаем среднее по строке в полученной матрице\n"
          ]
        },
        {
          "output_type": "execute_result",
          "data": {
            "text/plain": [
              "array([0., 0., 0.])"
            ]
          },
          "metadata": {},
          "execution_count": 215
        }
      ],
      "source": [
        "#Код:\n",
        "mean_line = np.mean(random_array, axis = 1)\n",
        "print(f\"Среднее значение по строкам: {mean_line}\")\n",
        "print()\n",
        "print(f\"Превратили среднее значение в вектор: \\n {mean_line.reshape(3, 1)}\")\n",
        "print()\n",
        "difference =  random_array - mean_line.reshape(3, 1)\n",
        "print(f\"Исходная матрица: \\n {random_array} \\n\")\n",
        "print(f\"Матрица, которая получилась при вычитании среднего по строке из каждого элемента в строке: \\n {difference}\")\n",
        "print(\"Тпеперь снова считаем среднее по строке в полученной матрице\")\n",
        "np.mean(difference, axis = 1)"
      ]
    },
    {
      "cell_type": "markdown",
      "metadata": {
        "id": "R779cLMTkIfk"
      },
      "source": [
        "#### Задача 2.12\n",
        "Пусть мы имеем 2 массива (заданы ниже в коде). Требуется создать массив, который получает результат поэлементно True, если четные элементы 1го массива больше 2го и True, если нечетные элементы 2го больше элементов первого. В противном случае возвращать False.\n",
        "\n",
        "Реализовать задачу с помощью numpy\n",
        "\n",
        "Пример массивов и результата:\n",
        "\n",
        "a = [7, 3, 5, 9, 2, 5, 4, 8, 9, 0]\n",
        "\n",
        "b = [2, 8, 6, 7, 1, 3, 2, 9, 5, 1]\n",
        "\n",
        "res = [ True, True, False, False, True, False, True, True, True, True]\n",
        "\n",
        "Вы можете сделать задачу с помощью слайсинга или комбинации функций np.arange и np.where"
      ]
    },
    {
      "cell_type": "code",
      "execution_count": null,
      "metadata": {
        "id": "JkwVGyUAkIfk",
        "colab": {
          "base_uri": "https://localhost:8080/"
        },
        "outputId": "67014153-0c40-4b4e-af9b-dd57be73f21a"
      },
      "outputs": [
        {
          "output_type": "execute_result",
          "data": {
            "text/plain": [
              "array([ True,  True, False, False,  True, False,  True,  True,  True,\n",
              "        True])"
            ]
          },
          "metadata": {},
          "execution_count": 216
        }
      ],
      "source": [
        "#Код:\n",
        "a = np.array([7, 3, 5, 9, 2, 5, 4, 8, 9, 0])\n",
        "b = np.array ([2, 8, 6, 7, 1, 3, 2, 9, 5, 1])\n",
        "\n",
        "res = np.zeros(shape = a.shape, dtype = bool)\n",
        "# print(a[::2] > b[::2])\n",
        "# print(a[1::2] < b[1::2])\n",
        "res[::2] = a[::2] > b[::2]\n",
        "res[1::2] = a[1::2] < b[1::2]\n",
        "res"
      ]
    },
    {
      "cell_type": "markdown",
      "metadata": {
        "id": "w2IWz0SykIfk"
      },
      "source": [
        "#### Задача 2.13\n",
        "Создайте массив размера 10 со значениями от 0 до 1 (интервал между значениями равномерный), не включая концы. См np.linspace + слайсинг"
      ]
    },
    {
      "cell_type": "code",
      "execution_count": null,
      "metadata": {
        "id": "6BNTNSSVkIfk",
        "colab": {
          "base_uri": "https://localhost:8080/"
        },
        "outputId": "9046865c-5a58-469c-94db-ebaec61f6c69"
      },
      "outputs": [
        {
          "output_type": "execute_result",
          "data": {
            "text/plain": [
              "array([0.09090909, 0.18181818, 0.27272727, 0.36363636, 0.45454545,\n",
              "       0.54545455, 0.63636364, 0.72727273, 0.81818182, 0.90909091])"
            ]
          },
          "metadata": {},
          "execution_count": 217
        }
      ],
      "source": [
        "\n",
        "#Код:\n",
        "np.linspace(0, 1, 12)[1:-1]"
      ]
    },
    {
      "cell_type": "markdown",
      "metadata": {
        "id": "9hOL9nPekIfk"
      },
      "source": [
        "#### Задача 2.14\n",
        "Создайте случайный вектор размера 10, и замените в нем максимальное значение на 0"
      ]
    },
    {
      "cell_type": "code",
      "execution_count": null,
      "metadata": {
        "id": "dJ5JJtAckIfk",
        "colab": {
          "base_uri": "https://localhost:8080/"
        },
        "outputId": "f97704e3-e9c5-4357-b220-de8fc7119293"
      },
      "outputs": [
        {
          "output_type": "stream",
          "name": "stdout",
          "text": [
            "Изначальный вектор: \n",
            " [1. 2. 3. 7. 9. 8. 5. 5. 5. 2.] \n",
            "\n",
            "Наибольшее значение в данном векторе: 9.0 \n",
            "\n",
            "Измененный вектор: \n",
            " [1. 2. 3. 7. 0. 8. 5. 5. 5. 2.]\n"
          ]
        }
      ],
      "source": [
        "#Код:\n",
        "random_array = np.round(np.random.rand(10) * 10)\n",
        "print(f\"Изначальный вектор: \\n {random_array} \\n\")\n",
        "print(f\"Наибольшее значение в данном векторе: {np.max(random_array)} \\n\")\n",
        "random_array[(random_array == np.max(random_array))] = 0\n",
        "print(f\"Измененный вектор: \\n {random_array}\")"
      ]
    },
    {
      "cell_type": "code",
      "source": [],
      "metadata": {
        "id": "Ip_H1PpGETR8"
      },
      "execution_count": null,
      "outputs": []
    }
  ],
  "metadata": {
    "kernelspec": {
      "display_name": "Python 3 (ipykernel)",
      "language": "python",
      "name": "python3"
    },
    "language_info": {
      "codemirror_mode": {
        "name": "ipython",
        "version": 3
      },
      "file_extension": ".py",
      "mimetype": "text/x-python",
      "name": "python",
      "nbconvert_exporter": "python",
      "pygments_lexer": "ipython3",
      "version": "3.9.12"
    },
    "colab": {
      "provenance": []
    }
  },
  "nbformat": 4,
  "nbformat_minor": 0
}